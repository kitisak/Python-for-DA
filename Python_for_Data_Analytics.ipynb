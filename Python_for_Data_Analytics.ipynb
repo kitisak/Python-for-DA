{
  "nbformat": 4,
  "nbformat_minor": 0,
  "metadata": {
    "colab": {
      "provenance": []
    },
    "kernelspec": {
      "name": "python3",
      "display_name": "Python 3"
    },
    "language_info": {
      "name": "python"
    }
  },
  "cells": [
    {
      "cell_type": "markdown",
      "source": [
        "**Module 01: Introduction to NumPy**"
      ],
      "metadata": {
        "id": "0z7jOhSVo_VE"
      }
    },
    {
      "cell_type": "markdown",
      "source": [
        "NumPy ndarray"
      ],
      "metadata": {
        "id": "UlF5-838pLwJ"
      }
    },
    {
      "cell_type": "code",
      "source": [
        "import numpy as np"
      ],
      "metadata": {
        "id": "g1BEhSIapGsF"
      },
      "execution_count": null,
      "outputs": []
    },
    {
      "cell_type": "code",
      "source": [
        "# Generate random data\n",
        "\n",
        "mydata = np.random.randn(2, 3)\n",
        "mydata"
      ],
      "metadata": {
        "id": "ROohKRJU82VO"
      },
      "execution_count": null,
      "outputs": []
    },
    {
      "cell_type": "code",
      "source": [
        "mydata * 10"
      ],
      "metadata": {
        "id": "ZTiriF6FpEjj"
      },
      "execution_count": null,
      "outputs": []
    },
    {
      "cell_type": "code",
      "source": [
        "mydata + mydata"
      ],
      "metadata": {
        "id": "gKA9yqEJqlwC"
      },
      "execution_count": null,
      "outputs": []
    },
    {
      "cell_type": "code",
      "source": [
        "# .shape\n",
        "\n",
        "mydata.shape"
      ],
      "metadata": {
        "id": "xuwaaAbaqprq"
      },
      "execution_count": null,
      "outputs": []
    },
    {
      "cell_type": "code",
      "source": [
        "# .type\n",
        "\n",
        "mydata.dtype"
      ],
      "metadata": {
        "id": "TZh4mEREqy3A"
      },
      "execution_count": null,
      "outputs": []
    },
    {
      "cell_type": "code",
      "source": [
        "# Creating ndarrays\n",
        "\n",
        "mydata1 = [6, 7.5, 8, 0, 1]\n",
        "myarr1 = np.array(mydata1)\n",
        "myarr1"
      ],
      "metadata": {
        "id": "GZoOtC4Oq2qg"
      },
      "execution_count": null,
      "outputs": []
    },
    {
      "cell_type": "code",
      "source": [
        "mydata2 = [[1, 2, 3, 4], [5, 6, 7, 8]]\n",
        "myarr2 = np.array(mydata2)\n",
        "myarr2"
      ],
      "metadata": {
        "id": "BQATvyJQ8rkx"
      },
      "execution_count": null,
      "outputs": []
    },
    {
      "cell_type": "code",
      "source": [
        "myarr1.dtype"
      ],
      "metadata": {
        "id": "u5PGyNHY8q7d"
      },
      "execution_count": null,
      "outputs": []
    },
    {
      "cell_type": "code",
      "source": [
        "myarr2.dtype"
      ],
      "metadata": {
        "id": "9FHnITY5_z90"
      },
      "execution_count": null,
      "outputs": []
    },
    {
      "cell_type": "code",
      "source": [
        "# .zeros\n",
        "\n",
        "np.zeros(10)"
      ],
      "metadata": {
        "id": "nugCSknY_2oE"
      },
      "execution_count": null,
      "outputs": []
    },
    {
      "cell_type": "code",
      "source": [
        "# .zeros\n",
        "\n",
        "np.zeros((3, 5))"
      ],
      "metadata": {
        "id": "MWZY537wA9C2"
      },
      "execution_count": null,
      "outputs": []
    },
    {
      "cell_type": "code",
      "source": [
        "# .arange\n",
        "\n",
        "np.arange(10)"
      ],
      "metadata": {
        "id": "dvjEGb2oBGxP"
      },
      "execution_count": null,
      "outputs": []
    },
    {
      "cell_type": "markdown",
      "source": [
        "Data Types for ndarrays"
      ],
      "metadata": {
        "id": "2gT3yGibBkv9"
      }
    },
    {
      "cell_type": "code",
      "source": [
        "myarr1 = np.array([1, 2, 3], dtype=np.float64)\n",
        "myarr1"
      ],
      "metadata": {
        "id": "RZ82JsinBPFb"
      },
      "execution_count": null,
      "outputs": []
    },
    {
      "cell_type": "code",
      "source": [
        "myarr1.dtype"
      ],
      "metadata": {
        "id": "Czua-IfYB1lG"
      },
      "execution_count": null,
      "outputs": []
    },
    {
      "cell_type": "code",
      "source": [
        "myarr2 = np.array([1, 2, 3], dtype=np.int32)\n",
        "myarr2"
      ],
      "metadata": {
        "id": "7yf3evwaBlSX"
      },
      "execution_count": null,
      "outputs": []
    },
    {
      "cell_type": "code",
      "source": [
        "myarr2.dtype"
      ],
      "metadata": {
        "id": "LV6s9JmXBtNO"
      },
      "execution_count": null,
      "outputs": []
    },
    {
      "cell_type": "code",
      "source": [
        "#.astype\n",
        "\n",
        "myarr1 = np.array([1, 2, 3, 4, 5])\n",
        "myarr1.dtype"
      ],
      "metadata": {
        "id": "acZe52rYB8it"
      },
      "execution_count": null,
      "outputs": []
    },
    {
      "cell_type": "code",
      "source": [
        "float_arr = myarr1.astype(np.float64)\n",
        "float_arr.dtype"
      ],
      "metadata": {
        "id": "qEAh7LmXC8HV"
      },
      "execution_count": null,
      "outputs": []
    },
    {
      "cell_type": "code",
      "source": [
        "float_arr"
      ],
      "metadata": {
        "id": "rb3gjtUoC8__"
      },
      "execution_count": null,
      "outputs": []
    },
    {
      "cell_type": "markdown",
      "source": [
        "Arithmetic with NumPy Arrays"
      ],
      "metadata": {
        "id": "L1nkvNwAEKac"
      }
    },
    {
      "cell_type": "code",
      "source": [
        "myarr = np.array([[1., 2., 3.], [4., 5., 6.]])\n",
        "myarr"
      ],
      "metadata": {
        "id": "i1r3AgB6EK5e"
      },
      "execution_count": null,
      "outputs": []
    },
    {
      "cell_type": "code",
      "source": [
        "myarr * myarr"
      ],
      "metadata": {
        "id": "meG_FbnGEREm"
      },
      "execution_count": null,
      "outputs": []
    },
    {
      "cell_type": "code",
      "source": [
        "myarr - myarr"
      ],
      "metadata": {
        "id": "0wUrNZRxEWxx"
      },
      "execution_count": null,
      "outputs": []
    },
    {
      "cell_type": "code",
      "source": [
        "1 / myarr"
      ],
      "metadata": {
        "id": "oyn6POInEbon"
      },
      "execution_count": null,
      "outputs": []
    },
    {
      "cell_type": "markdown",
      "source": [
        "Basic Indexing and Slicing"
      ],
      "metadata": {
        "id": "qn77LIAgJ9cu"
      }
    },
    {
      "cell_type": "code",
      "source": [
        "myarr = np.arange(10)\n",
        "myarr"
      ],
      "metadata": {
        "id": "OP3O0lb1JxtE"
      },
      "execution_count": null,
      "outputs": []
    },
    {
      "cell_type": "code",
      "source": [
        "myarr[5]"
      ],
      "metadata": {
        "id": "h3xTF9K2J95w"
      },
      "execution_count": null,
      "outputs": []
    },
    {
      "cell_type": "code",
      "source": [
        "myarr[5:8]"
      ],
      "metadata": {
        "id": "HsGm_SesKsu1"
      },
      "execution_count": null,
      "outputs": []
    },
    {
      "cell_type": "code",
      "source": [
        "myarr[5:8] = 10\n",
        "myarr"
      ],
      "metadata": {
        "id": "wpvr5uBjKxi_"
      },
      "execution_count": null,
      "outputs": []
    },
    {
      "cell_type": "code",
      "source": [
        "arr_slice = myarr[5:8]\n",
        "arr_slice"
      ],
      "metadata": {
        "id": "CSnilzzoK51C"
      },
      "execution_count": null,
      "outputs": []
    },
    {
      "cell_type": "code",
      "source": [
        "arr_slice[1] = 15\n",
        "myarr"
      ],
      "metadata": {
        "id": "kgvdS0gwLGu4"
      },
      "execution_count": null,
      "outputs": []
    },
    {
      "cell_type": "code",
      "source": [
        "arr_slice[:] = 50\n",
        "myarr"
      ],
      "metadata": {
        "id": "9kUEA3muLM__"
      },
      "execution_count": null,
      "outputs": []
    },
    {
      "cell_type": "code",
      "source": [
        "myarr2d = np.array([[1, 2, 3], [4, 5, 6], [7, 8, 9]])\n",
        "myarr2d[2]"
      ],
      "metadata": {
        "id": "TsLL43IVMqyb"
      },
      "execution_count": null,
      "outputs": []
    },
    {
      "cell_type": "code",
      "source": [
        "myarr2d[0][2]"
      ],
      "metadata": {
        "id": "f82IE6OpM3T0"
      },
      "execution_count": null,
      "outputs": []
    },
    {
      "cell_type": "code",
      "source": [
        "myarr2d[0, 2]"
      ],
      "metadata": {
        "id": "1ED34hbzM8UQ"
      },
      "execution_count": null,
      "outputs": []
    },
    {
      "cell_type": "code",
      "source": [
        "myarr3d = np.array([[[1, 2, 3], [4, 5, 6]], [[7, 8, 9], [10, 11, 12]]])\n",
        "myarr3d"
      ],
      "metadata": {
        "id": "ZzGLnY-pNF2J"
      },
      "execution_count": null,
      "outputs": []
    },
    {
      "cell_type": "code",
      "source": [
        "myarr3d[0]"
      ],
      "metadata": {
        "id": "0VMBSmL1NPC8"
      },
      "execution_count": null,
      "outputs": []
    },
    {
      "cell_type": "markdown",
      "source": [
        "Indexing with slices"
      ],
      "metadata": {
        "id": "glilZMnxOoaF"
      }
    },
    {
      "cell_type": "code",
      "source": [
        "myarr = np.array([10, 20, 30, 40, 50, 60, 70, 80])\n",
        "myarr"
      ],
      "metadata": {
        "id": "-uTXUtRtN264"
      },
      "execution_count": null,
      "outputs": []
    },
    {
      "cell_type": "code",
      "source": [
        "myarr[1:6]"
      ],
      "metadata": {
        "id": "b43Tf4HGOo6M"
      },
      "execution_count": null,
      "outputs": []
    },
    {
      "cell_type": "code",
      "source": [
        "myarr[:3]"
      ],
      "metadata": {
        "id": "Tvt6r0C7P0Tn"
      },
      "execution_count": null,
      "outputs": []
    },
    {
      "cell_type": "code",
      "source": [
        "myarr2d = np.array([[1, 2, 3], [4, 5, 6], [7, 8, 9]])\n",
        "myarr2d"
      ],
      "metadata": {
        "id": "JqDhVBSLQTgZ"
      },
      "execution_count": null,
      "outputs": []
    },
    {
      "cell_type": "code",
      "source": [
        "myarr2d[:2, 1:]"
      ],
      "metadata": {
        "id": "F2Ny84vQQZZh"
      },
      "execution_count": null,
      "outputs": []
    },
    {
      "cell_type": "code",
      "source": [
        "myarr2d[1, :2]"
      ],
      "metadata": {
        "id": "uKmp_N8nQgMc"
      },
      "execution_count": null,
      "outputs": []
    },
    {
      "cell_type": "code",
      "source": [
        "myarr2d[:2, 2]"
      ],
      "metadata": {
        "id": "NVdQjPvDTp43"
      },
      "execution_count": null,
      "outputs": []
    },
    {
      "cell_type": "code",
      "source": [
        "myarr2d[:, :1]"
      ],
      "metadata": {
        "id": "0JClb92YTvwR"
      },
      "execution_count": null,
      "outputs": []
    },
    {
      "cell_type": "code",
      "source": [
        "myarr2d[:2, 1:] = 0\n",
        "myarr2d"
      ],
      "metadata": {
        "id": "zyUV6z75XG5z"
      },
      "execution_count": null,
      "outputs": []
    },
    {
      "cell_type": "markdown",
      "source": [
        "Boolean Indexing"
      ],
      "metadata": {
        "id": "NdhL2uYmXelD"
      }
    },
    {
      "cell_type": "code",
      "source": [
        "names = np.array(['Bob', 'Joe', 'Will', 'Bob', 'Will', 'Joe', 'Joe'])\n",
        "names"
      ],
      "metadata": {
        "id": "1dpV0IwIXMjl"
      },
      "execution_count": null,
      "outputs": []
    },
    {
      "cell_type": "code",
      "source": [
        "data = np.random.randn(7, 4)\n",
        "data"
      ],
      "metadata": {
        "id": "vtTVhvmbXfFN"
      },
      "execution_count": null,
      "outputs": []
    },
    {
      "cell_type": "code",
      "source": [
        "names == 'Bob'"
      ],
      "metadata": {
        "id": "7w6xfTw3XqIr"
      },
      "execution_count": null,
      "outputs": []
    },
    {
      "cell_type": "code",
      "source": [
        "data[names == 'Bob']"
      ],
      "metadata": {
        "id": "wvCfsvUqXvAA"
      },
      "execution_count": null,
      "outputs": []
    },
    {
      "cell_type": "code",
      "source": [
        "data[names == 'Bob', 2:]"
      ],
      "metadata": {
        "id": "9N0AMr2-X4Hf"
      },
      "execution_count": null,
      "outputs": []
    },
    {
      "cell_type": "code",
      "source": [
        "data[names == 'Bob', 3]"
      ],
      "metadata": {
        "id": "ogfvHPfyZs1_"
      },
      "execution_count": null,
      "outputs": []
    },
    {
      "cell_type": "code",
      "source": [
        "names != 'Bob'"
      ],
      "metadata": {
        "id": "DNeBR8wRZxMt"
      },
      "execution_count": null,
      "outputs": []
    },
    {
      "cell_type": "code",
      "source": [
        "data"
      ],
      "metadata": {
        "id": "TlC4gwdNZ16n"
      },
      "execution_count": null,
      "outputs": []
    },
    {
      "cell_type": "code",
      "source": [
        "data[~(names == 'Bob')]"
      ],
      "metadata": {
        "id": "5mraPqE5Z8gZ"
      },
      "execution_count": null,
      "outputs": []
    },
    {
      "cell_type": "markdown",
      "source": [
        "Fancy Indexing"
      ],
      "metadata": {
        "id": "oJQlJttiaUvY"
      }
    },
    {
      "cell_type": "code",
      "source": [
        "arr = np.empty((8, 4))\n",
        "\n",
        "for i in range(8):\n",
        "    arr[i] = i\n",
        "arr"
      ],
      "metadata": {
        "id": "XjZ0iGSVaJbC"
      },
      "execution_count": null,
      "outputs": []
    },
    {
      "cell_type": "code",
      "source": [
        "arr[[4, 3, 0, 6]]"
      ],
      "metadata": {
        "id": "b8OKJOyfaVLr"
      },
      "execution_count": null,
      "outputs": []
    },
    {
      "cell_type": "code",
      "source": [
        "arr[[-3, -5, -7]]"
      ],
      "metadata": {
        "id": "avs41UvSb-u9"
      },
      "execution_count": null,
      "outputs": []
    },
    {
      "cell_type": "code",
      "source": [
        "arr = np.arange(32).reshape((8, 4))\n",
        "arr"
      ],
      "metadata": {
        "id": "Dush9PA_cDNq"
      },
      "execution_count": null,
      "outputs": []
    },
    {
      "cell_type": "code",
      "source": [
        "arr[[1, 5, 7, 2], [0, 3, 1, 2]]"
      ],
      "metadata": {
        "id": "ehokjRmQcMa-"
      },
      "execution_count": null,
      "outputs": []
    },
    {
      "cell_type": "markdown",
      "source": [
        "Transposing Arrays"
      ],
      "metadata": {
        "id": "4sv01TApcqI6"
      }
    },
    {
      "cell_type": "code",
      "source": [
        "arr = np.arange(15).reshape((3, 5))\n",
        "arr"
      ],
      "metadata": {
        "id": "kYhKBAZUcTFO"
      },
      "execution_count": null,
      "outputs": []
    },
    {
      "cell_type": "code",
      "source": [
        "arr.T"
      ],
      "metadata": {
        "id": "TQ015ocucqj5"
      },
      "execution_count": null,
      "outputs": []
    },
    {
      "cell_type": "markdown",
      "source": [
        "Universal Functions: Fast Element-Wise Array Functions"
      ],
      "metadata": {
        "id": "HsevxrBzegGZ"
      }
    },
    {
      "cell_type": "code",
      "source": [
        "arr = np.arange(10)\n",
        "arr"
      ],
      "metadata": {
        "id": "BkykoQoddifV"
      },
      "execution_count": null,
      "outputs": []
    },
    {
      "cell_type": "code",
      "source": [
        "np.sqrt(arr)"
      ],
      "metadata": {
        "id": "rSAkyMhYegl6"
      },
      "execution_count": null,
      "outputs": []
    },
    {
      "cell_type": "code",
      "source": [
        "np.exp(arr)"
      ],
      "metadata": {
        "id": "PcFT4PKLem0s"
      },
      "execution_count": null,
      "outputs": []
    },
    {
      "cell_type": "code",
      "source": [
        "x = np.random.randn(8)\n",
        "x"
      ],
      "metadata": {
        "id": "oaotYCJBerWt"
      },
      "execution_count": null,
      "outputs": []
    },
    {
      "cell_type": "code",
      "source": [
        "y = np.random.randn(8)\n",
        "y"
      ],
      "metadata": {
        "id": "j9bMBMuPewom"
      },
      "execution_count": null,
      "outputs": []
    },
    {
      "cell_type": "code",
      "source": [
        "np.maximum(x, y)"
      ],
      "metadata": {
        "id": "jlxQOjt7ezqj"
      },
      "execution_count": null,
      "outputs": []
    },
    {
      "cell_type": "markdown",
      "source": [
        "Array-Oriented Programming with Arrays"
      ],
      "metadata": {
        "id": "Fhuti_K5e_Pp"
      }
    },
    {
      "cell_type": "code",
      "source": [
        "points = np.arange(-5, 5, 0.01) # 1000 equally spaced points\n",
        "xs, ys = np.meshgrid(points, points)\n",
        "ys"
      ],
      "metadata": {
        "id": "4Me7KUz6e3Vu"
      },
      "execution_count": null,
      "outputs": []
    },
    {
      "cell_type": "code",
      "source": [
        "z = np.sqrt(xs ** 2 + ys ** 2)\n",
        "z"
      ],
      "metadata": {
        "id": "eRvB1sxne_vk"
      },
      "execution_count": null,
      "outputs": []
    },
    {
      "cell_type": "code",
      "source": [
        "import matplotlib.pyplot as plt\n",
        "\n",
        "plt.imshow(z, cmap=plt.cm.gray)\n",
        "plt.colorbar()\n",
        "plt.title(\"Image plot of $\\sqrt{x^2 + y^2}$ for a grid of values\")"
      ],
      "metadata": {
        "id": "oNjdcxTlf4Gz"
      },
      "execution_count": null,
      "outputs": []
    },
    {
      "cell_type": "markdown",
      "source": [
        "Mathematical and Statistical Methods"
      ],
      "metadata": {
        "id": "VSB-b06VgxHG"
      }
    },
    {
      "cell_type": "code",
      "source": [
        "arr = np.random.randn(5, 4)\n",
        "arr"
      ],
      "metadata": {
        "id": "GGw_OgG0gMlG"
      },
      "execution_count": null,
      "outputs": []
    },
    {
      "cell_type": "code",
      "source": [
        "arr.mean()"
      ],
      "metadata": {
        "id": "Mwz7NWPtgxlv"
      },
      "execution_count": null,
      "outputs": []
    },
    {
      "cell_type": "code",
      "source": [
        "np.mean(arr)"
      ],
      "metadata": {
        "id": "xjXRyog4g8ac"
      },
      "execution_count": null,
      "outputs": []
    },
    {
      "cell_type": "code",
      "source": [
        "arr.sum()"
      ],
      "metadata": {
        "id": "W7zoqUF6g-jc"
      },
      "execution_count": null,
      "outputs": []
    },
    {
      "cell_type": "markdown",
      "source": [
        "Methods for Boolean Arrays"
      ],
      "metadata": {
        "id": "biRSip9IifSt"
      }
    },
    {
      "cell_type": "code",
      "source": [
        "bools = np.array([False, False, True, False])\n",
        "bools.any()"
      ],
      "metadata": {
        "id": "PFY5yXFeh2_D"
      },
      "execution_count": null,
      "outputs": []
    },
    {
      "cell_type": "code",
      "source": [
        "bools = np.array([False, False, True, False])\n",
        "bools.all()"
      ],
      "metadata": {
        "id": "Zc_0pPB2h3iG"
      },
      "execution_count": null,
      "outputs": []
    },
    {
      "cell_type": "markdown",
      "source": [
        "Sorting Array"
      ],
      "metadata": {
        "id": "fcq-_B69iio8"
      }
    },
    {
      "cell_type": "code",
      "source": [
        "arr = np.random.randn(6)\n",
        "arr"
      ],
      "metadata": {
        "id": "z8qNfrVxh72h"
      },
      "execution_count": null,
      "outputs": []
    },
    {
      "cell_type": "code",
      "source": [
        "arr.sort()\n",
        "arr"
      ],
      "metadata": {
        "id": "VqR3jl1Wikp0"
      },
      "execution_count": null,
      "outputs": []
    },
    {
      "cell_type": "code",
      "source": [
        "arr = np.random.randn(5, 3)\n",
        "arr"
      ],
      "metadata": {
        "id": "YVDkOjJ-jFOL"
      },
      "execution_count": null,
      "outputs": []
    },
    {
      "cell_type": "code",
      "source": [
        "arr.sort()\n",
        "arr"
      ],
      "metadata": {
        "id": "fB76xPGmjMX6"
      },
      "execution_count": null,
      "outputs": []
    },
    {
      "cell_type": "markdown",
      "source": [
        "Unique and Other Set Logic"
      ],
      "metadata": {
        "id": "y7hvViBSju43"
      }
    },
    {
      "cell_type": "code",
      "source": [
        "names = np.array(['Bob', 'Joe', 'Will', 'Bob', 'Will', 'Joe', 'Joe'])\n",
        "np.unique(names)"
      ],
      "metadata": {
        "id": "dnQb2ys1jPnq"
      },
      "execution_count": null,
      "outputs": []
    },
    {
      "cell_type": "code",
      "source": [
        "ints = np.array([3, 3, 3, 2, 2, 1, 1, 4, 4])\n",
        "np.unique(ints)"
      ],
      "metadata": {
        "id": "SVzh-3_ojvff"
      },
      "execution_count": null,
      "outputs": []
    },
    {
      "cell_type": "code",
      "source": [
        "sorted(set(names))"
      ],
      "metadata": {
        "id": "w2dEFM_sj-tG"
      },
      "execution_count": null,
      "outputs": []
    },
    {
      "cell_type": "code",
      "source": [
        "sorted(set(ints))"
      ],
      "metadata": {
        "id": "MDTShEHbkGIB"
      },
      "execution_count": null,
      "outputs": []
    },
    {
      "cell_type": "markdown",
      "source": [
        "Linear Algebra"
      ],
      "metadata": {
        "id": "ijII1XRzkSCU"
      }
    },
    {
      "cell_type": "code",
      "source": [
        "x = np.array([[10, 20, 30], [40, 50, 60]])\n",
        "x"
      ],
      "metadata": {
        "id": "LtbKfneokLGZ"
      },
      "execution_count": null,
      "outputs": []
    },
    {
      "cell_type": "code",
      "source": [
        "y = np.array([[60, 20], [-10, 70], [80, 90]])\n",
        "y"
      ],
      "metadata": {
        "id": "fZTGlFJbkSds"
      },
      "execution_count": null,
      "outputs": []
    },
    {
      "cell_type": "code",
      "source": [
        "x.dot(y)"
      ],
      "metadata": {
        "id": "3xAW49SfkmB8"
      },
      "execution_count": null,
      "outputs": []
    },
    {
      "cell_type": "markdown",
      "source": [
        "**Module 02: Introduction to pandas**"
      ],
      "metadata": {
        "id": "4vJGPHAdk7bB"
      }
    },
    {
      "cell_type": "code",
      "source": [
        "import pandas as pd"
      ],
      "metadata": {
        "id": "ePZDs5zRkpJA"
      },
      "execution_count": null,
      "outputs": []
    },
    {
      "cell_type": "code",
      "source": [
        "from pandas import Series, DataFrame"
      ],
      "metadata": {
        "id": "5c7YYxahk-0X"
      },
      "execution_count": null,
      "outputs": []
    },
    {
      "cell_type": "markdown",
      "source": [
        "Introduction to pandas Data Structures - Series"
      ],
      "metadata": {
        "id": "WgXrtubc0tjT"
      }
    },
    {
      "cell_type": "code",
      "source": [
        "obj = pd.Series([4, 7, -5, 3])\n",
        "obj"
      ],
      "metadata": {
        "id": "Mzw3FnddzNvs"
      },
      "execution_count": null,
      "outputs": []
    },
    {
      "cell_type": "code",
      "source": [
        "obj.values"
      ],
      "metadata": {
        "id": "81HXcWBJzT76"
      },
      "execution_count": null,
      "outputs": []
    },
    {
      "cell_type": "code",
      "source": [
        "obj.index"
      ],
      "metadata": {
        "id": "kH82jYPYzW44"
      },
      "execution_count": null,
      "outputs": []
    },
    {
      "cell_type": "code",
      "source": [
        "obj2 = pd.Series([4, 7, -5, 3], index=['d', 'b', 'a', 'c'])\n",
        "obj2"
      ],
      "metadata": {
        "id": "rHLMttJvzYhX"
      },
      "execution_count": null,
      "outputs": []
    },
    {
      "cell_type": "code",
      "source": [
        "obj2.index"
      ],
      "metadata": {
        "id": "_FGK5we5za5A"
      },
      "execution_count": null,
      "outputs": []
    },
    {
      "cell_type": "code",
      "source": [
        "obj2['a']"
      ],
      "metadata": {
        "id": "ziJ4jdtOzlOk"
      },
      "execution_count": null,
      "outputs": []
    },
    {
      "cell_type": "code",
      "source": [
        "obj2['d'] = 6\n",
        "obj2[['c', 'a', 'd']]"
      ],
      "metadata": {
        "id": "p1iTQWqzzpdC"
      },
      "execution_count": null,
      "outputs": []
    },
    {
      "cell_type": "code",
      "source": [
        "sdata = {'Ohio': 35000, 'Texas': 71000, 'Oregon': 16000, 'Utah': 5000}\n",
        "obj3 = pd.Series(sdata)\n",
        "obj3"
      ],
      "metadata": {
        "id": "esIliQq7zrWE"
      },
      "execution_count": null,
      "outputs": []
    },
    {
      "cell_type": "code",
      "source": [
        "states = ['California', 'Ohio', 'Oregon', 'Texas']\n",
        "obj4 = pd.Series(sdata, index=states)\n",
        "obj4"
      ],
      "metadata": {
        "id": "ur8wVZCdzy0x"
      },
      "execution_count": null,
      "outputs": []
    },
    {
      "cell_type": "code",
      "source": [
        "pd.isnull(obj4)"
      ],
      "metadata": {
        "id": "HLBd9hBaz2oq"
      },
      "execution_count": null,
      "outputs": []
    },
    {
      "cell_type": "code",
      "source": [
        "pd.notnull(obj4)"
      ],
      "metadata": {
        "id": "6w9QshZ40BbA"
      },
      "execution_count": null,
      "outputs": []
    },
    {
      "cell_type": "code",
      "source": [
        "obj4.isnull()"
      ],
      "metadata": {
        "id": "rSizxM3J0Dj-"
      },
      "execution_count": null,
      "outputs": []
    },
    {
      "cell_type": "code",
      "source": [
        "obj3"
      ],
      "metadata": {
        "id": "-POyh_vi0F3F"
      },
      "execution_count": null,
      "outputs": []
    },
    {
      "cell_type": "code",
      "source": [
        "obj4"
      ],
      "metadata": {
        "id": "4zbVZzRD0JqZ"
      },
      "execution_count": null,
      "outputs": []
    },
    {
      "cell_type": "code",
      "source": [
        "obj3 + obj4"
      ],
      "metadata": {
        "id": "b5hCiGFP0La3"
      },
      "execution_count": null,
      "outputs": []
    },
    {
      "cell_type": "code",
      "source": [
        "obj4.name = 'population'\n",
        "obj4"
      ],
      "metadata": {
        "id": "DFd1iH260NwF"
      },
      "execution_count": null,
      "outputs": []
    },
    {
      "cell_type": "code",
      "source": [
        "obj4.index.name = 'state'\n",
        "obj4"
      ],
      "metadata": {
        "id": "RK5tob3l0Wxp"
      },
      "execution_count": null,
      "outputs": []
    },
    {
      "cell_type": "code",
      "source": [
        "obj"
      ],
      "metadata": {
        "id": "dhgj7QIn0gBa"
      },
      "execution_count": null,
      "outputs": []
    },
    {
      "cell_type": "code",
      "source": [
        "obj.index = ['Bob', 'Steve', 'Jeff', 'Ryan']\n",
        "obj"
      ],
      "metadata": {
        "id": "6wrmMBR10kC9"
      },
      "execution_count": null,
      "outputs": []
    },
    {
      "cell_type": "markdown",
      "source": [
        "Introduction to pandas Data Structures - DataFrame"
      ],
      "metadata": {
        "id": "CIRTeRwc04Vf"
      }
    },
    {
      "cell_type": "code",
      "source": [
        "data = {'state': ['Ohio', 'Ohio', 'Ohio', 'Nevada', 'Nevada', 'Nevada'],\n",
        "        'year': [2000, 2001, 2002, 2001, 2002, 2003],\n",
        "        'pop': [1.5, 1.7, 3.6, 2.4, 2.9, 3.2]}\n",
        "\n",
        "frame = pd.DataFrame(data)\n",
        "frame"
      ],
      "metadata": {
        "id": "UwzK_bTD0mZC"
      },
      "execution_count": null,
      "outputs": []
    },
    {
      "cell_type": "code",
      "source": [
        "frame.head()"
      ],
      "metadata": {
        "id": "CZhJ430b07IZ"
      },
      "execution_count": null,
      "outputs": []
    },
    {
      "cell_type": "code",
      "source": [
        "frame.head(3)"
      ],
      "metadata": {
        "id": "-quA768h1-li"
      },
      "execution_count": null,
      "outputs": []
    },
    {
      "cell_type": "code",
      "source": [
        "pd.DataFrame(data, columns=['year', 'state', 'pop'])"
      ],
      "metadata": {
        "id": "cuC-fJEC2EH-"
      },
      "execution_count": null,
      "outputs": []
    },
    {
      "cell_type": "code",
      "source": [
        "frame2 = pd.DataFrame(data, columns=['year', 'state', 'pop', 'debt'],\n",
        "                      index=['one', 'two', 'three', 'four', 'five', 'six'])\n",
        "\n",
        "frame2"
      ],
      "metadata": {
        "id": "pwvEsUf52M9R"
      },
      "execution_count": null,
      "outputs": []
    },
    {
      "cell_type": "code",
      "source": [
        "frame2.columns"
      ],
      "metadata": {
        "id": "Ja9iwqGh2Uim"
      },
      "execution_count": null,
      "outputs": []
    },
    {
      "cell_type": "code",
      "source": [
        "frame2['state']"
      ],
      "metadata": {
        "id": "q8PreWVa2XAu"
      },
      "execution_count": null,
      "outputs": []
    },
    {
      "cell_type": "code",
      "source": [
        "frame2.year"
      ],
      "metadata": {
        "id": "n8d58yDL2bkz"
      },
      "execution_count": null,
      "outputs": []
    },
    {
      "cell_type": "code",
      "source": [
        "frame2"
      ],
      "metadata": {
        "id": "xlQj1Jnc2eEt"
      },
      "execution_count": null,
      "outputs": []
    },
    {
      "cell_type": "code",
      "source": [
        "frame2.loc['three']"
      ],
      "metadata": {
        "id": "14X6ufBa2iDu"
      },
      "execution_count": null,
      "outputs": []
    },
    {
      "cell_type": "code",
      "source": [
        "frame2['debt'] = 16.5\n",
        "frame2"
      ],
      "metadata": {
        "id": "i8If5rPI2pNR"
      },
      "execution_count": null,
      "outputs": []
    },
    {
      "cell_type": "code",
      "source": [
        "frame2['debt'] = np.arange(6.)\n",
        "frame2"
      ],
      "metadata": {
        "id": "swZMCdeXntK0"
      },
      "execution_count": null,
      "outputs": []
    },
    {
      "cell_type": "code",
      "source": [
        "val = pd.Series([-1.2, -1.5, -1.7], index=['two', 'four', 'five'])\n",
        "val"
      ],
      "metadata": {
        "id": "x5pClkEGn8gG"
      },
      "execution_count": null,
      "outputs": []
    },
    {
      "cell_type": "code",
      "source": [
        "frame2"
      ],
      "metadata": {
        "id": "QRJh66UgoIX2"
      },
      "execution_count": null,
      "outputs": []
    },
    {
      "cell_type": "code",
      "source": [
        "frame2['debt'] = val\n",
        "frame2"
      ],
      "metadata": {
        "id": "rFXDc7UvoUhi"
      },
      "execution_count": null,
      "outputs": []
    },
    {
      "cell_type": "code",
      "source": [
        "frame2['eastern'] = frame2.state == 'Ohio'\n",
        "frame2"
      ],
      "metadata": {
        "id": "cTi8ddAHoXs7"
      },
      "execution_count": null,
      "outputs": []
    },
    {
      "cell_type": "code",
      "source": [
        "del frame2['eastern']\n",
        "frame2.columns"
      ],
      "metadata": {
        "id": "BLmSAuMDop1K"
      },
      "execution_count": null,
      "outputs": []
    },
    {
      "cell_type": "code",
      "source": [
        "frame2"
      ],
      "metadata": {
        "id": "ta2JHmKmozPq"
      },
      "execution_count": null,
      "outputs": []
    },
    {
      "cell_type": "code",
      "source": [
        "pop = {'Nevada': {2001: 2.4, 2002: 2.9},\n",
        "       'Ohio': {2000: 1.5, 2001: 1.7, 2002: 3.6}}"
      ],
      "metadata": {
        "id": "7QVqw8QNo3eL"
      },
      "execution_count": null,
      "outputs": []
    },
    {
      "cell_type": "code",
      "source": [
        "frame3 = pd.DataFrame(pop)\n",
        "frame3"
      ],
      "metadata": {
        "id": "qXdbXRpqo9PU"
      },
      "execution_count": null,
      "outputs": []
    },
    {
      "cell_type": "code",
      "source": [
        "frame3.T"
      ],
      "metadata": {
        "id": "BT04nxOopALA"
      },
      "execution_count": null,
      "outputs": []
    },
    {
      "cell_type": "code",
      "source": [
        "pd.DataFrame(pop, index=[2001, 2002, 2003])"
      ],
      "metadata": {
        "id": "T-4KX0z4pHKf"
      },
      "execution_count": null,
      "outputs": []
    },
    {
      "cell_type": "code",
      "source": [
        "frame3"
      ],
      "metadata": {
        "id": "mszY4BkNqiFq"
      },
      "execution_count": null,
      "outputs": []
    },
    {
      "cell_type": "code",
      "source": [
        "pdata = {'Ohio': frame3['Ohio'][:-1],\n",
        "         'Nevada': frame3['Nevada'][:2]}\n",
        "\n",
        "pd.DataFrame(pdata)"
      ],
      "metadata": {
        "id": "hCcrSmMcqQ_J"
      },
      "execution_count": null,
      "outputs": []
    },
    {
      "cell_type": "markdown",
      "source": [
        "Essential Functionality"
      ],
      "metadata": {
        "id": "2pCF1gFFrY5w"
      }
    },
    {
      "cell_type": "code",
      "source": [
        "obj = pd.Series([4.5, 7.2, -5.3, 3.6], index=['d', 'b', 'a', 'c'])\n",
        "obj"
      ],
      "metadata": {
        "id": "ku41iKOOrZi5"
      },
      "execution_count": null,
      "outputs": []
    },
    {
      "cell_type": "code",
      "source": [
        "# .reindex()\n",
        "\n",
        "obj2 = obj.reindex(['a', 'b', 'c', 'd', 'e'])\n",
        "obj2"
      ],
      "metadata": {
        "id": "Gqx1dFSmqaFL"
      },
      "execution_count": null,
      "outputs": []
    },
    {
      "cell_type": "code",
      "source": [
        "obj3 = pd.Series(['blue', 'purple', 'yellow'], index=[0, 2, 4])\n",
        "obj3"
      ],
      "metadata": {
        "id": "J9Ix9KcwrpgT"
      },
      "execution_count": null,
      "outputs": []
    },
    {
      "cell_type": "code",
      "source": [
        "obj3.reindex(range(6), method='ffill')\n",
        "\n",
        "#เติมข้อมูลที่ขาดโดยอาศัยข้อมูลที่อยู่ด้านหน้าให้ใส่เป็น method='ffill'"
      ],
      "metadata": {
        "id": "IoGL-4vSspjG"
      },
      "execution_count": null,
      "outputs": []
    },
    {
      "cell_type": "code",
      "source": [
        "frame = pd.DataFrame(np.arange(9).reshape((3, 3)),\n",
        "                     index=['a', 'c', 'd'],\n",
        "                     columns=['Ohio', 'Texas', 'California'])\n",
        "frame"
      ],
      "metadata": {
        "id": "9I6uhQIhsy-K"
      },
      "execution_count": null,
      "outputs": []
    },
    {
      "cell_type": "code",
      "source": [
        "frame2 = frame.reindex(['a', 'b', 'c', 'd'])\n",
        "frame2"
      ],
      "metadata": {
        "id": "-BgEmkHsuARH"
      },
      "execution_count": null,
      "outputs": []
    },
    {
      "cell_type": "code",
      "source": [
        "frame"
      ],
      "metadata": {
        "id": "ZzSfHZQYueSY"
      },
      "execution_count": null,
      "outputs": []
    },
    {
      "cell_type": "code",
      "source": [
        "states = ['Texas', 'Utah', 'California']\n",
        "frame.reindex(columns=states)"
      ],
      "metadata": {
        "id": "PJkWVkJmuF9T"
      },
      "execution_count": null,
      "outputs": []
    },
    {
      "cell_type": "markdown",
      "source": [
        "Dropping Entries from an Axis"
      ],
      "metadata": {
        "id": "TZC90h4ru2P5"
      }
    },
    {
      "cell_type": "code",
      "source": [
        "obj = pd.Series(np.arange(5.), index=['a', 'b', 'c', 'd', 'e'])\n",
        "obj"
      ],
      "metadata": {
        "id": "0TRBIbapuuGq"
      },
      "execution_count": null,
      "outputs": []
    },
    {
      "cell_type": "code",
      "source": [
        "# .drop\n",
        "\n",
        "new_obj = obj.drop('c')\n",
        "new_obj"
      ],
      "metadata": {
        "id": "-naHdSbbvmE_"
      },
      "execution_count": null,
      "outputs": []
    },
    {
      "cell_type": "code",
      "source": [
        "obj.drop(['d', 'c'])"
      ],
      "metadata": {
        "id": "e1jhZjuMvp32"
      },
      "execution_count": null,
      "outputs": []
    },
    {
      "cell_type": "code",
      "source": [
        "data = pd.DataFrame(np.arange(16).reshape((4, 4)),\n",
        "                    index=['Ohio', 'Colorado', 'Utah', 'New York'],\n",
        "                    columns=['one', 'two', 'three', 'four'])\n",
        "\n",
        "data"
      ],
      "metadata": {
        "id": "4AMIOwJBwAaG"
      },
      "execution_count": null,
      "outputs": []
    },
    {
      "cell_type": "code",
      "source": [
        "data.drop(['Colorado', 'Ohio'])"
      ],
      "metadata": {
        "id": "ygfSPh_xwPaS"
      },
      "execution_count": null,
      "outputs": []
    },
    {
      "cell_type": "code",
      "source": [
        "data.drop('two', axis=1)  #  (axis = 0 คือแถว, axis = 1 คือคอลัมน์)"
      ],
      "metadata": {
        "id": "d7Y0OAWpweGR"
      },
      "execution_count": null,
      "outputs": []
    },
    {
      "cell_type": "code",
      "source": [
        "data.drop(['two', 'four'], axis='columns')"
      ],
      "metadata": {
        "id": "8ZieCbaswohg"
      },
      "execution_count": null,
      "outputs": []
    },
    {
      "cell_type": "code",
      "source": [
        "obj"
      ],
      "metadata": {
        "id": "lYKpjWb_wwjG"
      },
      "execution_count": null,
      "outputs": []
    },
    {
      "cell_type": "code",
      "source": [
        "obj.drop('c', inplace=True) # inplace=True ลงไปเพื่อทำให้เมธอดนี้เป็นการเปลี่ยนแปลงแทนที่เดตาเฟรมตัวเก่า"
      ],
      "metadata": {
        "id": "-qAVIuUXw6w-"
      },
      "execution_count": null,
      "outputs": []
    },
    {
      "cell_type": "code",
      "source": [
        "obj"
      ],
      "metadata": {
        "id": "kU-FIngyw98m"
      },
      "execution_count": null,
      "outputs": []
    },
    {
      "cell_type": "markdown",
      "source": [
        "Indexing, Selection, and Filtering"
      ],
      "metadata": {
        "id": "Bv0NtfudyHeh"
      }
    },
    {
      "cell_type": "code",
      "source": [
        "obj = pd.Series(np.arange(4.), index=['a', 'b', 'c', 'd'])\n",
        "obj"
      ],
      "metadata": {
        "id": "N9h0nK2CxDJY"
      },
      "execution_count": null,
      "outputs": []
    },
    {
      "cell_type": "code",
      "source": [
        "obj['b']"
      ],
      "metadata": {
        "id": "R5qKBWe9yH-t"
      },
      "execution_count": null,
      "outputs": []
    },
    {
      "cell_type": "code",
      "source": [
        "obj[1]"
      ],
      "metadata": {
        "id": "qFhA06qZyOCQ"
      },
      "execution_count": null,
      "outputs": []
    },
    {
      "cell_type": "code",
      "source": [
        "obj[2:4]"
      ],
      "metadata": {
        "id": "YCmb13oPyUlX"
      },
      "execution_count": null,
      "outputs": []
    },
    {
      "cell_type": "code",
      "source": [
        "obj[['b', 'a', 'd']]"
      ],
      "metadata": {
        "id": "X0dh66hEyXcE"
      },
      "execution_count": null,
      "outputs": []
    },
    {
      "cell_type": "code",
      "source": [
        "obj[[1, 3]]"
      ],
      "metadata": {
        "id": "p_oWDNF4y6fR"
      },
      "execution_count": null,
      "outputs": []
    },
    {
      "cell_type": "code",
      "source": [
        "obj[obj < 2]"
      ],
      "metadata": {
        "id": "CbjXLdeRy_TG"
      },
      "execution_count": null,
      "outputs": []
    },
    {
      "cell_type": "code",
      "source": [
        "obj['b':'c']"
      ],
      "metadata": {
        "id": "ztET2_VOzCgk"
      },
      "execution_count": null,
      "outputs": []
    },
    {
      "cell_type": "code",
      "source": [
        "obj['b':'c'] = 5\n",
        "obj"
      ],
      "metadata": {
        "id": "zX1jS5JezF5s"
      },
      "execution_count": null,
      "outputs": []
    },
    {
      "cell_type": "code",
      "source": [
        "data = pd.DataFrame(np.arange(16).reshape((4, 4)),\n",
        "                    index=['Ohio', 'Colorado', 'Utah', 'New York'],\n",
        "                    columns=['one', 'two', 'three', 'four'])\n",
        "data"
      ],
      "metadata": {
        "id": "tiugfH1KzMUb"
      },
      "execution_count": null,
      "outputs": []
    },
    {
      "cell_type": "code",
      "source": [
        "data['two']"
      ],
      "metadata": {
        "id": "dzF6htoS1peW"
      },
      "execution_count": null,
      "outputs": []
    },
    {
      "cell_type": "code",
      "source": [
        "data[['three', 'one']]"
      ],
      "metadata": {
        "id": "862yv_Iv1si4"
      },
      "execution_count": null,
      "outputs": []
    },
    {
      "cell_type": "code",
      "source": [
        "data"
      ],
      "metadata": {
        "id": "4bKCgVzn2HNS"
      },
      "execution_count": null,
      "outputs": []
    },
    {
      "cell_type": "code",
      "source": [
        "data[:2]"
      ],
      "metadata": {
        "id": "akZvw3wY2aIX"
      },
      "execution_count": null,
      "outputs": []
    },
    {
      "cell_type": "code",
      "source": [
        "data[data['three'] > 5]"
      ],
      "metadata": {
        "id": "pgQKebSV2dVa"
      },
      "execution_count": null,
      "outputs": []
    },
    {
      "cell_type": "code",
      "source": [
        "data"
      ],
      "metadata": {
        "id": "9N3jj2892sfb"
      },
      "execution_count": null,
      "outputs": []
    },
    {
      "cell_type": "code",
      "source": [
        "data < 5"
      ],
      "metadata": {
        "id": "4kyKHqsr2mor"
      },
      "execution_count": null,
      "outputs": []
    },
    {
      "cell_type": "code",
      "source": [
        "data[data < 5] = 0"
      ],
      "metadata": {
        "id": "ETtKGgg72wcp"
      },
      "execution_count": null,
      "outputs": []
    },
    {
      "cell_type": "code",
      "source": [
        "data"
      ],
      "metadata": {
        "id": "ehJj1XQO20MP"
      },
      "execution_count": null,
      "outputs": []
    },
    {
      "cell_type": "markdown",
      "source": [
        "Arithmetic and Data Alignment"
      ],
      "metadata": {
        "id": "gW4GbtZn3EEh"
      }
    },
    {
      "cell_type": "code",
      "source": [
        "s1 = pd.Series([7.3, -2.5, 3.4, 1.5], index=['a', 'c', 'd', 'e'])\n",
        "s1"
      ],
      "metadata": {
        "id": "1Cp9MCNX23R-"
      },
      "execution_count": null,
      "outputs": []
    },
    {
      "cell_type": "code",
      "source": [
        "s2 = pd.Series([-2.1, 3.6, -1.5, 4, 3.1], index=['a', 'c', 'e', 'f', 'g'])\n",
        "s2"
      ],
      "metadata": {
        "id": "B-cUrX9h3EmP"
      },
      "execution_count": null,
      "outputs": []
    },
    {
      "cell_type": "code",
      "source": [
        "s1 + s2"
      ],
      "metadata": {
        "id": "VzBFBAz33T08"
      },
      "execution_count": null,
      "outputs": []
    },
    {
      "cell_type": "code",
      "source": [
        "df1 = pd.DataFrame(np.arange(9.).reshape((3, 3)), columns=list('bcd'),\n",
        "                   index=['Ohio', 'Texas', 'Colorado'])\n",
        "df1"
      ],
      "metadata": {
        "id": "4fRHOUyO3X2J"
      },
      "execution_count": null,
      "outputs": []
    },
    {
      "cell_type": "code",
      "source": [
        "df2 = pd.DataFrame(np.arange(12.).reshape((4, 3)), columns=list('bde'),\n",
        "                   index=['Utah', 'Ohio', 'Texas', 'Oregon'])\n",
        "df2"
      ],
      "metadata": {
        "id": "F5gGKMFN3iJM"
      },
      "execution_count": null,
      "outputs": []
    },
    {
      "cell_type": "code",
      "source": [
        "df1 + df2"
      ],
      "metadata": {
        "id": "nykNTSg43m5G"
      },
      "execution_count": null,
      "outputs": []
    },
    {
      "cell_type": "markdown",
      "source": [
        "Arithmetic methods with fill values"
      ],
      "metadata": {
        "id": "A_ead68o34qZ"
      }
    },
    {
      "cell_type": "code",
      "source": [
        "df1 = pd.DataFrame(np.arange(12.).reshape((3, 4)), columns=list('abcd'))\n",
        "df1"
      ],
      "metadata": {
        "id": "1zJYBsMk3q8a"
      },
      "execution_count": null,
      "outputs": []
    },
    {
      "cell_type": "code",
      "source": [
        "df2 = pd.DataFrame(np.arange(20.).reshape((4, 5)), columns=list('abcde'))\n",
        "df2"
      ],
      "metadata": {
        "id": "Tn3guje335Ha"
      },
      "execution_count": null,
      "outputs": []
    },
    {
      "cell_type": "code",
      "source": [
        "df2.loc[1, 'b'] = np.nan"
      ],
      "metadata": {
        "id": "8bzfcnTG4oQo"
      },
      "execution_count": null,
      "outputs": []
    },
    {
      "cell_type": "markdown",
      "source": [
        "การที่จะเลือกแถว และคอลัมน์ นั้นเราจะต้องระบุว่าต้องการจะเลือกข้อมูลที่อยู่ใน แถวอะไร และคอลัมน์อะไร หรือ Location ที่มีข้อมูลที่ต้องการอยู่นั้นเอง ซึ่งมี 2 วิธี ดังนี้\n",
        "\n",
        "loc : การที่จะใช้ loc นั้น จะต้องระบุชื่อของแถวและ ชื่อของคอลัมน์ลงไปตรงๆ\n",
        "iloc : การที่จะใช้ iloc นั้นไม่สนใจชื่อ แต่สนใจตำแหน่งของแถว และ ตำแหน่งของคอลัมน์"
      ],
      "metadata": {
        "id": "ecpbc_ZT5Lqx"
      }
    },
    {
      "cell_type": "code",
      "source": [
        "df2"
      ],
      "metadata": {
        "id": "cSfZXzBp4roh"
      },
      "execution_count": null,
      "outputs": []
    },
    {
      "cell_type": "code",
      "source": [
        "df1 + df2"
      ],
      "metadata": {
        "id": "KnXRYCq44tKJ"
      },
      "execution_count": null,
      "outputs": []
    },
    {
      "cell_type": "code",
      "source": [
        "df1.add(df2, fill_value=0)"
      ],
      "metadata": {
        "id": "WkfUc5Bi5cI4"
      },
      "execution_count": null,
      "outputs": []
    },
    {
      "cell_type": "code",
      "source": [
        "frame = pd.DataFrame(np.random.randn(4, 3), columns=list('bde'),\n",
        "                     index=['Utah', 'Ohio', 'Texas', 'Oregon'])\n",
        "frame"
      ],
      "metadata": {
        "id": "0sM1Vr825iQ-"
      },
      "execution_count": null,
      "outputs": []
    },
    {
      "cell_type": "code",
      "source": [
        "np.abs(frame)"
      ],
      "metadata": {
        "id": "-ATYjDAV52ZU"
      },
      "execution_count": null,
      "outputs": []
    },
    {
      "cell_type": "code",
      "source": [
        "obj = pd.Series(range(4), index=['d', 'a', 'b', 'c'])\n",
        "obj"
      ],
      "metadata": {
        "id": "xjla8G8A9zxN"
      },
      "execution_count": null,
      "outputs": []
    },
    {
      "cell_type": "code",
      "source": [
        "obj.sort_index()"
      ],
      "metadata": {
        "id": "35u8L2Di-Hp-"
      },
      "execution_count": null,
      "outputs": []
    },
    {
      "cell_type": "code",
      "source": [
        "frame = pd.DataFrame(np.arange(8).reshape((2, 4)),\n",
        "                     index=['three', 'one'],\n",
        "                     columns=['d', 'a', 'b', 'c'])\n",
        "\n",
        "frame"
      ],
      "metadata": {
        "id": "vytZUIZg-Ioy"
      },
      "execution_count": null,
      "outputs": []
    },
    {
      "cell_type": "code",
      "source": [
        "frame.sort_index()"
      ],
      "metadata": {
        "id": "pBRPh443-UH9"
      },
      "execution_count": null,
      "outputs": []
    },
    {
      "cell_type": "code",
      "source": [
        "frame.sort_index(axis=1)"
      ],
      "metadata": {
        "id": "HS076ylI-a-0"
      },
      "execution_count": null,
      "outputs": []
    },
    {
      "cell_type": "code",
      "source": [
        "frame.sort_index(axis=1, ascending=False)"
      ],
      "metadata": {
        "id": "F_ZYEZkK-e9g"
      },
      "execution_count": null,
      "outputs": []
    },
    {
      "cell_type": "code",
      "source": [
        "obj = pd.Series([4, 7, -3, 2])\n",
        "obj"
      ],
      "metadata": {
        "id": "pm9eX303-jjn"
      },
      "execution_count": null,
      "outputs": []
    },
    {
      "cell_type": "code",
      "source": [
        "obj.sort_values()"
      ],
      "metadata": {
        "id": "Qxxj8apE-xTG"
      },
      "execution_count": null,
      "outputs": []
    },
    {
      "cell_type": "code",
      "source": [
        "obj = pd.Series([4, np.nan, 7, np.nan, -3, 2])\n",
        "obj"
      ],
      "metadata": {
        "id": "VGEFP1pj-zZu"
      },
      "execution_count": null,
      "outputs": []
    },
    {
      "cell_type": "code",
      "source": [
        "obj.sort_values()"
      ],
      "metadata": {
        "id": "jjvP7wKk-53f"
      },
      "execution_count": null,
      "outputs": []
    },
    {
      "cell_type": "code",
      "source": [
        "frame = pd.DataFrame({'b': [4, 7, -3, 2], 'a': [0, 1, 0, 1]})\n",
        "frame"
      ],
      "metadata": {
        "id": "e_ONwxtU-9yl"
      },
      "execution_count": null,
      "outputs": []
    },
    {
      "cell_type": "code",
      "source": [
        "frame.sort_values(by='b')"
      ],
      "metadata": {
        "id": "K4nivGIp_CGa"
      },
      "execution_count": null,
      "outputs": []
    },
    {
      "cell_type": "code",
      "source": [
        "frame.sort_values(by=['a', 'b'])"
      ],
      "metadata": {
        "id": "6qgH4_K4_GdA"
      },
      "execution_count": null,
      "outputs": []
    },
    {
      "cell_type": "code",
      "source": [
        "obj = pd.Series([7, -5, 7, 4, 2, 0, 4])\n",
        "obj"
      ],
      "metadata": {
        "id": "fECrf3s1_WZu"
      },
      "execution_count": null,
      "outputs": []
    },
    {
      "cell_type": "code",
      "source": [
        "obj = pd.Series(range(5), index=['a', 'a', 'b', 'b', 'c'])\n",
        "obj"
      ],
      "metadata": {
        "id": "lEbT8LoR_b87"
      },
      "execution_count": null,
      "outputs": []
    },
    {
      "cell_type": "code",
      "source": [
        "obj.index.is_unique"
      ],
      "metadata": {
        "id": "bD43SWcw_gE5"
      },
      "execution_count": null,
      "outputs": []
    },
    {
      "cell_type": "code",
      "source": [
        "obj['a']"
      ],
      "metadata": {
        "id": "1Jbm2cCc_7TA"
      },
      "execution_count": null,
      "outputs": []
    },
    {
      "cell_type": "code",
      "source": [
        "obj['c']"
      ],
      "metadata": {
        "id": "Q4IFoDEsADCG"
      },
      "execution_count": null,
      "outputs": []
    },
    {
      "cell_type": "markdown",
      "source": [
        "Summarizing and Computing Descriptive Statistics"
      ],
      "metadata": {
        "id": "nXNc3fAyAJ0E"
      }
    },
    {
      "cell_type": "code",
      "source": [
        "df = pd.DataFrame([[1.4, np.nan], [7.1, -4.5],\n",
        "                   [np.nan, np.nan], [0.75, -1.3]],\n",
        "                  index=['a', 'b', 'c', 'd'],\n",
        "                  columns=['one', 'two'])\n",
        "\n",
        "df"
      ],
      "metadata": {
        "id": "Peyd_mgnAFcL"
      },
      "execution_count": null,
      "outputs": []
    },
    {
      "cell_type": "code",
      "source": [
        "df.sum()"
      ],
      "metadata": {
        "id": "zHgxnH6AAKTY"
      },
      "execution_count": null,
      "outputs": []
    },
    {
      "cell_type": "code",
      "source": [
        "df.sum(axis='columns')"
      ],
      "metadata": {
        "id": "30emoYVwAx7e"
      },
      "execution_count": null,
      "outputs": []
    },
    {
      "cell_type": "code",
      "source": [
        "df.mean(axis='columns', skipna=False)"
      ],
      "metadata": {
        "id": "mlK-A5f8BC_l"
      },
      "execution_count": null,
      "outputs": []
    },
    {
      "cell_type": "code",
      "source": [
        "df.describe()"
      ],
      "metadata": {
        "id": "aBWWZ7QVBbxq"
      },
      "execution_count": null,
      "outputs": []
    },
    {
      "cell_type": "markdown",
      "source": [
        "**Module 03: Data Loading, Storage and File Formats**"
      ],
      "metadata": {
        "id": "ngnlx8FZB3YQ"
      }
    },
    {
      "cell_type": "markdown",
      "source": [
        "Reading and Writing Data in Text Format"
      ],
      "metadata": {
        "id": "h9pWzL-PC2nj"
      }
    },
    {
      "cell_type": "code",
      "source": [
        "from google.colab import drive"
      ],
      "metadata": {
        "id": "A2sB7qF6BlQ7"
      },
      "execution_count": null,
      "outputs": []
    },
    {
      "cell_type": "code",
      "source": [
        "drive.mount('/content/drive/')"
      ],
      "metadata": {
        "id": "o0TP_FxUC3LJ"
      },
      "execution_count": null,
      "outputs": []
    },
    {
      "cell_type": "code",
      "source": [
        "path = '/content/drive/MyDrive/'"
      ],
      "metadata": {
        "id": "pb0whkL8F5Pn"
      },
      "execution_count": null,
      "outputs": []
    },
    {
      "cell_type": "code",
      "source": [
        "df = pd.read_csv(path +'examples/ex1.csv')\n",
        "df"
      ],
      "metadata": {
        "id": "SfB0oct9GfEj"
      },
      "execution_count": null,
      "outputs": []
    },
    {
      "cell_type": "code",
      "source": [
        "pd.read_table(path + 'examples/ex1.csv', sep=',')"
      ],
      "metadata": {
        "id": "Aop6sMwIHgbu"
      },
      "execution_count": null,
      "outputs": []
    },
    {
      "cell_type": "code",
      "source": [
        "pd.read_csv(path + 'examples/ex2.csv', header=None)"
      ],
      "metadata": {
        "id": "RIKS4MdlHuF8"
      },
      "execution_count": null,
      "outputs": []
    },
    {
      "cell_type": "code",
      "source": [
        "pd.read_csv(path + 'examples/ex2.csv', names=['a', 'b', 'c', 'd', 'message'])"
      ],
      "metadata": {
        "id": "HmLb7XEhIGBQ"
      },
      "execution_count": null,
      "outputs": []
    },
    {
      "cell_type": "code",
      "source": [
        "names = ['a', 'b', 'c', 'd', 'message']\n",
        "pd.read_csv(path + 'examples/ex2.csv', names=names, index_col='message')"
      ],
      "metadata": {
        "id": "kM6gHDuqJ-AB"
      },
      "execution_count": null,
      "outputs": []
    },
    {
      "cell_type": "code",
      "source": [
        "parsed = pd.read_csv(path + 'examples/csv_mindex.csv', index_col=['key1', 'key2'])\n",
        "parsed"
      ],
      "metadata": {
        "id": "N3RvAZHvKUHv"
      },
      "execution_count": null,
      "outputs": []
    },
    {
      "cell_type": "code",
      "source": [
        "result = pd.read_table(path + 'examples/ex3.txt', sep='\\s+')\n",
        "result"
      ],
      "metadata": {
        "id": "J81QNS7ELAuD"
      },
      "execution_count": null,
      "outputs": []
    },
    {
      "cell_type": "code",
      "source": [
        "pd.read_csv(path + 'examples/ex4.csv', skiprows=[0, 2, 3])"
      ],
      "metadata": {
        "id": "YMA23QmKLkV7"
      },
      "execution_count": null,
      "outputs": []
    },
    {
      "cell_type": "code",
      "source": [
        "result = pd.read_csv(path + 'examples/ex5.csv')\n",
        "result"
      ],
      "metadata": {
        "id": "tnvaDjz1LvQr"
      },
      "execution_count": null,
      "outputs": []
    },
    {
      "cell_type": "code",
      "source": [
        "pd.isnull(result)"
      ],
      "metadata": {
        "id": "DHako4jIL5LM"
      },
      "execution_count": null,
      "outputs": []
    },
    {
      "cell_type": "code",
      "source": [
        "result = pd.read_csv(path + 'examples/ex5.csv', na_values=['NULL'])\n",
        "result"
      ],
      "metadata": {
        "id": "5ZtsV8xCMI9b"
      },
      "execution_count": null,
      "outputs": []
    },
    {
      "cell_type": "markdown",
      "source": [
        "Reading Text Files in Pieces"
      ],
      "metadata": {
        "id": "JJtwVsCyNS7O"
      }
    },
    {
      "cell_type": "code",
      "source": [
        "result = pd.read_csv(path + 'examples/ex6.csv')\n",
        "result"
      ],
      "metadata": {
        "id": "S_9JdE2NNGdj"
      },
      "execution_count": null,
      "outputs": []
    },
    {
      "cell_type": "code",
      "source": [
        "pd.read_csv(path + 'examples/ex6.csv', nrows=5)"
      ],
      "metadata": {
        "id": "IunKU0P4NTfB"
      },
      "execution_count": null,
      "outputs": []
    },
    {
      "cell_type": "code",
      "source": [
        "pd.read_csv(path + 'examples/ex6.csv', nrows=10)"
      ],
      "metadata": {
        "id": "0UcXZ82MNkTD"
      },
      "execution_count": null,
      "outputs": []
    },
    {
      "cell_type": "markdown",
      "source": [
        "Writing Data to Text Format"
      ],
      "metadata": {
        "id": "wxRYBQ-qODId"
      }
    },
    {
      "cell_type": "code",
      "source": [
        "data = pd.read_csv(path + 'examples/ex5.csv')\n",
        "data"
      ],
      "metadata": {
        "id": "7rAo3DqQNwEg"
      },
      "execution_count": null,
      "outputs": []
    },
    {
      "cell_type": "code",
      "source": [
        "data.to_csv(path + 'examples/out.csv')"
      ],
      "metadata": {
        "id": "NUASDlhBOE4C"
      },
      "execution_count": null,
      "outputs": []
    },
    {
      "cell_type": "code",
      "source": [
        "dates = pd.date_range('1/1/2000', periods=7)\n",
        "ts = pd.Series(np.arange(7), index=dates)"
      ],
      "metadata": {
        "id": "GsdCrUgJOgPD"
      },
      "execution_count": null,
      "outputs": []
    },
    {
      "cell_type": "code",
      "source": [
        "dates"
      ],
      "metadata": {
        "id": "apt4bU-IO2c7"
      },
      "execution_count": null,
      "outputs": []
    },
    {
      "cell_type": "code",
      "source": [
        "ts"
      ],
      "metadata": {
        "id": "4YUELoKcO4Ii"
      },
      "execution_count": null,
      "outputs": []
    },
    {
      "cell_type": "code",
      "source": [
        "ts.to_csv(path + 'examples/tseries.csv')"
      ],
      "metadata": {
        "id": "Aer6jb9WO6Ae"
      },
      "execution_count": null,
      "outputs": []
    },
    {
      "cell_type": "markdown",
      "source": [
        "Working with Delimited Formats"
      ],
      "metadata": {
        "id": "bPgZams9PZre"
      }
    },
    {
      "cell_type": "code",
      "source": [
        "import csv\n",
        "f = open(path + 'examples/ex7.csv')\n",
        "\n",
        "reader = csv.reader(f)"
      ],
      "metadata": {
        "id": "75fAl-WqPCgD"
      },
      "execution_count": null,
      "outputs": []
    },
    {
      "cell_type": "code",
      "source": [
        "for line in reader:\n",
        "    print(line)"
      ],
      "metadata": {
        "id": "1tom7AfFPafp"
      },
      "execution_count": null,
      "outputs": []
    },
    {
      "cell_type": "markdown",
      "source": [
        "JSON Data"
      ],
      "metadata": {
        "id": "0hBTB-MdP4xd"
      }
    },
    {
      "cell_type": "code",
      "source": [
        "obj = \"\"\"\n",
        "{\"name\": \"Wes\",\n",
        " \"places_lived\": [\"United States\", \"Spain\", \"Germany\"],\n",
        " \"pet\": null,\n",
        " \"siblings\": [{\"name\": \"Scott\", \"age\": 30, \"pets\": [\"Zeus\", \"Zuko\"]},\n",
        "              {\"name\": \"Katie\", \"age\": 38,\n",
        "               \"pets\": [\"Sixes\", \"Stache\", \"Cisco\"]}]\n",
        "}\n",
        "\"\"\""
      ],
      "metadata": {
        "id": "MkUWRAZ0Puf2"
      },
      "execution_count": null,
      "outputs": []
    },
    {
      "cell_type": "code",
      "source": [
        "import json\n",
        "result = json.loads(obj)\n",
        "result"
      ],
      "metadata": {
        "id": "C9YfKjiDP5RQ"
      },
      "execution_count": null,
      "outputs": []
    },
    {
      "cell_type": "code",
      "source": [
        "siblings = pd.DataFrame(result['siblings'], columns=['name', 'age'])\n",
        "siblings"
      ],
      "metadata": {
        "id": "5zMUJzrqP_-l"
      },
      "execution_count": null,
      "outputs": []
    },
    {
      "cell_type": "code",
      "source": [
        "data = pd.read_json(path + 'examples/example.json')\n",
        "data"
      ],
      "metadata": {
        "id": "QoXoKX9_QfZl"
      },
      "execution_count": null,
      "outputs": []
    },
    {
      "cell_type": "code",
      "source": [
        "print(data.to_json())"
      ],
      "metadata": {
        "id": "oT4tIABOQ0vA"
      },
      "execution_count": null,
      "outputs": []
    },
    {
      "cell_type": "code",
      "source": [
        "print(data.to_json(orient='records'))"
      ],
      "metadata": {
        "id": "FZjcptenRC3v"
      },
      "execution_count": null,
      "outputs": []
    },
    {
      "cell_type": "markdown",
      "source": [
        "XML and HTML: Web Scraping"
      ],
      "metadata": {
        "id": "DMK7HwYGRt5o"
      }
    },
    {
      "cell_type": "code",
      "source": [
        "tables = pd.read_html(path + 'examples/fdic_failed_bank_list.html')\n",
        "len(tables)"
      ],
      "metadata": {
        "id": "rj3bDQRIRgAI"
      },
      "execution_count": null,
      "outputs": []
    },
    {
      "cell_type": "code",
      "source": [
        "failures = tables[0]"
      ],
      "metadata": {
        "id": "URCc0a6_Ru1k"
      },
      "execution_count": null,
      "outputs": []
    },
    {
      "cell_type": "code",
      "source": [
        "failures.head()"
      ],
      "metadata": {
        "id": "XtFY5wkHSTI7"
      },
      "execution_count": null,
      "outputs": []
    },
    {
      "cell_type": "code",
      "source": [
        "close_timestamps = pd.to_datetime(failures['Closing Date'])\n",
        "close_timestamps"
      ],
      "metadata": {
        "id": "qowjS9Z1SXrH"
      },
      "execution_count": null,
      "outputs": []
    },
    {
      "cell_type": "code",
      "source": [
        "close_timestamps.dt.year.value_counts()"
      ],
      "metadata": {
        "id": "duVHoMCRShiG"
      },
      "execution_count": null,
      "outputs": []
    },
    {
      "cell_type": "code",
      "source": [
        "from lxml import objectify\n",
        "\n",
        "paths = path + 'examples/Performance_MNR.xml'\n",
        "parsed = objectify.parse(open(paths))\n",
        "root = parsed.getroot()"
      ],
      "metadata": {
        "id": "CYbCzkpdSlQG"
      },
      "execution_count": null,
      "outputs": []
    },
    {
      "cell_type": "code",
      "source": [
        "data = []\n",
        "\n",
        "skip_fields = ['PARENT_SEQ', 'INDICATOR_SEQ', 'DESIRED_CHANGE', 'DECIMAL_PLACES']\n",
        "\n",
        "for elt in root.INDICATOR:\n",
        "    el_data = {}\n",
        "    for child in elt.getchildren():\n",
        "        if child.tag in skip_fields:\n",
        "            continue\n",
        "        el_data[child.tag] = child.pyval\n",
        "    data.append(el_data)"
      ],
      "metadata": {
        "id": "ed_VCsCJTIgO"
      },
      "execution_count": null,
      "outputs": []
    },
    {
      "cell_type": "code",
      "source": [
        "perf = pd.DataFrame(data)\n",
        "perf.head()"
      ],
      "metadata": {
        "id": "imln4VkmTTQv"
      },
      "execution_count": null,
      "outputs": []
    },
    {
      "cell_type": "markdown",
      "source": [
        "Reading Microsoft Excel Files"
      ],
      "metadata": {
        "id": "oTdNh9oNTeXd"
      }
    },
    {
      "cell_type": "code",
      "source": [
        "xlsx = pd.ExcelFile(path + 'examples/ex1.xlsx')"
      ],
      "metadata": {
        "id": "_K5NJuVkTVpP"
      },
      "execution_count": null,
      "outputs": []
    },
    {
      "cell_type": "code",
      "source": [
        "pd.read_excel(xlsx, 'Sheet1')"
      ],
      "metadata": {
        "id": "IZb_4e0oTe6s"
      },
      "execution_count": null,
      "outputs": []
    },
    {
      "cell_type": "code",
      "source": [
        "frame = pd.read_excel(path + 'examples/ex1.xlsx', 'Sheet1')\n",
        "frame"
      ],
      "metadata": {
        "id": "zg3FtuX5TyJe"
      },
      "execution_count": null,
      "outputs": []
    },
    {
      "cell_type": "markdown",
      "source": [
        "Interacting with Web APIs"
      ],
      "metadata": {
        "id": "luIqDbjuVG9h"
      }
    },
    {
      "cell_type": "code",
      "source": [
        "import requests\n",
        "\n",
        "url = 'https://api.github.com/repos/pandas-dev/pandas/issues'\n",
        "resp = requests.get(url)\n",
        "resp"
      ],
      "metadata": {
        "id": "Z2e7zu-yUy9B"
      },
      "execution_count": null,
      "outputs": []
    },
    {
      "cell_type": "code",
      "source": [
        "data = resp.json()\n",
        "data"
      ],
      "metadata": {
        "id": "8ji2OydZVHa8"
      },
      "execution_count": null,
      "outputs": []
    },
    {
      "cell_type": "code",
      "source": [
        "data[0]['title']"
      ],
      "metadata": {
        "id": "rlXuLCLuVNfS"
      },
      "execution_count": null,
      "outputs": []
    },
    {
      "cell_type": "code",
      "source": [
        "issues = pd.DataFrame(data, columns=['number', 'title', 'labels', 'state'])\n",
        "issues"
      ],
      "metadata": {
        "id": "s7rru9YaVTvn"
      },
      "execution_count": null,
      "outputs": []
    },
    {
      "cell_type": "markdown",
      "source": [
        "Interacting with Databases"
      ],
      "metadata": {
        "id": "KjKh5XV_VgqQ"
      }
    },
    {
      "cell_type": "code",
      "source": [
        "import sqlite3\n",
        "\n",
        "query = \"\"\"\n",
        "CREATE TABLE test1\n",
        "(a VARCHAR(20), b VARCHAR(20),\n",
        " c REAL,        d INTEGER\n",
        ");\"\"\"\n",
        "con = sqlite3.connect('mydata.sqlite')\n",
        "con.execute(query)\n",
        "con.commit()"
      ],
      "metadata": {
        "id": "PTS6qp78VbGc"
      },
      "execution_count": null,
      "outputs": []
    },
    {
      "cell_type": "code",
      "source": [
        "data = [('Atlanta', 'Georgia', 1.25, 6),\n",
        "        ('Tallahassee', 'Florida', 2.6, 3),\n",
        "        ('Sacramento', 'California', 1.7, 5)]\n",
        "\n",
        "stmt = \"INSERT INTO test1 VALUES(?, ?, ?, ?)\"\n",
        "con.executemany(stmt, data)\n",
        "con.commit()"
      ],
      "metadata": {
        "id": "_T63Xj-EVhCQ"
      },
      "execution_count": null,
      "outputs": []
    },
    {
      "cell_type": "code",
      "source": [
        "cursor = con.execute('select * from test1')\n",
        "rows = cursor.fetchall()\n",
        "rows"
      ],
      "metadata": {
        "id": "sVcw410xVpLF"
      },
      "execution_count": null,
      "outputs": []
    },
    {
      "cell_type": "code",
      "source": [
        "cursor.description\n",
        "pd.DataFrame(rows, columns=[x[0] for x in cursor.description])"
      ],
      "metadata": {
        "id": "3HZPy5wiVrMh"
      },
      "execution_count": null,
      "outputs": []
    },
    {
      "cell_type": "markdown",
      "source": [
        "Module 04: Data Cleaning and Preparation"
      ],
      "metadata": {
        "id": "1HvYfMTUYUrJ"
      }
    },
    {
      "cell_type": "markdown",
      "source": [
        "Handling Missing Data"
      ],
      "metadata": {
        "id": "1V3MlFYcgqIP"
      }
    },
    {
      "cell_type": "code",
      "source": [
        "string_data = pd.Series(['aardvark', 'artichoke', np.nan, 'avocado'])\n",
        "string_data"
      ],
      "metadata": {
        "id": "EEkmDbv6YXpX"
      },
      "execution_count": null,
      "outputs": []
    },
    {
      "cell_type": "code",
      "source": [
        "string_data.isnull()"
      ],
      "metadata": {
        "id": "9tL6DrG7gqt3"
      },
      "execution_count": null,
      "outputs": []
    },
    {
      "cell_type": "code",
      "source": [
        "string_data[0] = None\n",
        "string_data.isnull()"
      ],
      "metadata": {
        "id": "H4bo8amKgyHz"
      },
      "execution_count": null,
      "outputs": []
    },
    {
      "cell_type": "markdown",
      "source": [
        "Filtering Out Missing Data"
      ],
      "metadata": {
        "id": "MUK_C0PxhG19"
      }
    },
    {
      "cell_type": "code",
      "source": [
        "from numpy import nan as NA\n",
        "\n",
        "data = pd.Series([1, NA, 3.5, NA, 7])\n",
        "data.dropna()"
      ],
      "metadata": {
        "id": "d-ljTVQcg2qk"
      },
      "execution_count": null,
      "outputs": []
    },
    {
      "cell_type": "code",
      "source": [
        "data"
      ],
      "metadata": {
        "id": "fRXv1JVihQ5Y"
      },
      "execution_count": null,
      "outputs": []
    },
    {
      "cell_type": "code",
      "source": [
        "data[data.notnull()]"
      ],
      "metadata": {
        "id": "QWSNEfbphHTa"
      },
      "execution_count": null,
      "outputs": []
    },
    {
      "cell_type": "code",
      "source": [
        "data = pd.DataFrame([[1., 6.5, 3.], [1., NA, NA],\n",
        "                     [NA, NA, NA], [NA, 6.5, 3.]])\n",
        "\n",
        "data"
      ],
      "metadata": {
        "id": "Jk-6sRbshXG9"
      },
      "execution_count": null,
      "outputs": []
    },
    {
      "cell_type": "code",
      "source": [
        "cleaned = data.dropna()\n",
        "cleaned"
      ],
      "metadata": {
        "id": "M8zCmgvVhdvE"
      },
      "execution_count": null,
      "outputs": []
    },
    {
      "cell_type": "code",
      "source": [
        "data"
      ],
      "metadata": {
        "id": "6_mqWlPQhgtk"
      },
      "execution_count": null,
      "outputs": []
    },
    {
      "cell_type": "code",
      "source": [
        "data.dropna(how='all')"
      ],
      "metadata": {
        "id": "pijpbBPPhnxy"
      },
      "execution_count": null,
      "outputs": []
    },
    {
      "cell_type": "code",
      "source": [
        "data"
      ],
      "metadata": {
        "id": "OfCR3y3_hpa0"
      },
      "execution_count": null,
      "outputs": []
    },
    {
      "cell_type": "code",
      "source": [
        "data[4] = NA\n",
        "data"
      ],
      "metadata": {
        "id": "1WWDustPilfV"
      },
      "execution_count": null,
      "outputs": []
    },
    {
      "cell_type": "code",
      "source": [
        "data.dropna(axis=1, how='all')"
      ],
      "metadata": {
        "id": "cn8rq9x5injR"
      },
      "execution_count": null,
      "outputs": []
    },
    {
      "cell_type": "markdown",
      "source": [
        "Data Transformation"
      ],
      "metadata": {
        "id": "Xg76C2wCiwLN"
      }
    },
    {
      "cell_type": "code",
      "source": [
        "# Removing Duplicates\n",
        "\n",
        "data = pd.DataFrame({'k1': ['one', 'two'] * 3 + ['two'],\n",
        "                     'k2': [1, 1, 2, 3, 3, 4, 4]})\n",
        "data"
      ],
      "metadata": {
        "id": "tlnC7fGgiq7B"
      },
      "execution_count": null,
      "outputs": []
    },
    {
      "cell_type": "code",
      "source": [
        "data.duplicated()"
      ],
      "metadata": {
        "id": "ZdtqrAL7jDBJ"
      },
      "execution_count": null,
      "outputs": []
    },
    {
      "cell_type": "code",
      "source": [
        "data.drop_duplicates()"
      ],
      "metadata": {
        "id": "JTFXMJRwjVqh"
      },
      "execution_count": null,
      "outputs": []
    },
    {
      "cell_type": "code",
      "source": [
        "data['v1'] = range(7)\n",
        "data.drop_duplicates(['k1'])"
      ],
      "metadata": {
        "id": "QUKppZGZjchg"
      },
      "execution_count": null,
      "outputs": []
    },
    {
      "cell_type": "code",
      "source": [
        "data"
      ],
      "metadata": {
        "id": "b_9mpiU3jfvQ"
      },
      "execution_count": null,
      "outputs": []
    },
    {
      "cell_type": "code",
      "source": [
        "data.drop_duplicates(['k1', 'k2'], keep='last')"
      ],
      "metadata": {
        "id": "8UD-HVdDjkU-"
      },
      "execution_count": null,
      "outputs": []
    },
    {
      "cell_type": "markdown",
      "source": [
        "Transforming Data Using a Function or Mapping"
      ],
      "metadata": {
        "id": "oRvIp1Bdj-IR"
      }
    },
    {
      "cell_type": "code",
      "source": [
        "data = pd.DataFrame({'food': ['bacon', 'pulled pork', 'bacon',\n",
        "                              'Pastrami', 'corned beef', 'Bacon',\n",
        "                              'pastrami', 'honey ham', 'nova lox'],\n",
        "                     'ounces': [4, 3, 12, 6, 7.5, 8, 3, 5, 6]})\n",
        "data"
      ],
      "metadata": {
        "id": "pg1dANXNj1SQ"
      },
      "execution_count": null,
      "outputs": []
    },
    {
      "cell_type": "code",
      "source": [
        "meat_to_animal = {\n",
        "  'bacon': 'pig',\n",
        "  'pulled pork': 'pig',\n",
        "  'pastrami': 'cow',\n",
        "  'corned beef': 'cow',\n",
        "  'honey ham': 'pig',\n",
        "  'nova lox': 'salmon'\n",
        "}"
      ],
      "metadata": {
        "id": "-oSHf2Jmj-k7"
      },
      "execution_count": null,
      "outputs": []
    },
    {
      "cell_type": "code",
      "source": [
        "lowercased = data['food'].str.lower()\n",
        "lowercased"
      ],
      "metadata": {
        "id": "r06KfFi2kET5"
      },
      "execution_count": null,
      "outputs": []
    },
    {
      "cell_type": "code",
      "source": [
        "data['animal'] = lowercased.map(meat_to_animal)\n",
        "data"
      ],
      "metadata": {
        "id": "5ZHrqhRHkIzz"
      },
      "execution_count": null,
      "outputs": []
    },
    {
      "cell_type": "markdown",
      "source": [
        "Replacing Values"
      ],
      "metadata": {
        "id": "D-LzGHAlkTAA"
      }
    },
    {
      "cell_type": "code",
      "source": [
        "data = pd.Series([1., -999., 2., -999., -1000., 3.])\n",
        "data"
      ],
      "metadata": {
        "id": "hoN4qKc-kLT9"
      },
      "execution_count": null,
      "outputs": []
    },
    {
      "cell_type": "code",
      "source": [
        "data.replace(-999, np.nan)"
      ],
      "metadata": {
        "id": "hwEGBw1bkTc5"
      },
      "execution_count": null,
      "outputs": []
    },
    {
      "cell_type": "code",
      "source": [
        "data.replace([-999, -1000], np.nan)"
      ],
      "metadata": {
        "id": "dokqncdPkYGc"
      },
      "execution_count": null,
      "outputs": []
    },
    {
      "cell_type": "code",
      "source": [
        "data"
      ],
      "metadata": {
        "id": "BouEbLrVka4p"
      },
      "execution_count": null,
      "outputs": []
    },
    {
      "cell_type": "code",
      "source": [
        "data.replace([-999, -1000], [np.nan, 0])"
      ],
      "metadata": {
        "id": "0YDYn5w3keAL"
      },
      "execution_count": null,
      "outputs": []
    },
    {
      "cell_type": "code",
      "source": [
        "data"
      ],
      "metadata": {
        "id": "ijbgym64knUn"
      },
      "execution_count": null,
      "outputs": []
    },
    {
      "cell_type": "code",
      "source": [
        "data.replace({-999: np.nan, -1000: 0})"
      ],
      "metadata": {
        "id": "sLoTwsTskpw-"
      },
      "execution_count": null,
      "outputs": []
    },
    {
      "cell_type": "markdown",
      "source": [
        "Renaming Axis Indexes"
      ],
      "metadata": {
        "id": "e6h494Ggk6ab"
      }
    },
    {
      "cell_type": "code",
      "source": [
        "data = pd.DataFrame(np.arange(12).reshape((3, 4)),\n",
        "                    index=['Ohio', 'Colorado', 'New York'],\n",
        "                    columns=['one', 'two', 'three', 'four'])"
      ],
      "metadata": {
        "id": "3tYYRaWbkrlH"
      },
      "execution_count": null,
      "outputs": []
    },
    {
      "cell_type": "code",
      "source": [
        "data"
      ],
      "metadata": {
        "id": "U4TzUF4Pk61B"
      },
      "execution_count": null,
      "outputs": []
    },
    {
      "cell_type": "code",
      "source": [
        "transform = lambda x: x[:4].upper()\n",
        "data.index.map(transform)"
      ],
      "metadata": {
        "id": "MpcSPNVZlCcs"
      },
      "execution_count": null,
      "outputs": []
    },
    {
      "cell_type": "code",
      "source": [
        "data.index = data.index.map(transform)\n",
        "data"
      ],
      "metadata": {
        "id": "VjVjEj0-lDXU"
      },
      "execution_count": null,
      "outputs": []
    },
    {
      "cell_type": "code",
      "source": [
        "data.rename(index=str.title, columns=str.upper)"
      ],
      "metadata": {
        "id": "a0NUf-uilJ61"
      },
      "execution_count": null,
      "outputs": []
    },
    {
      "cell_type": "code",
      "source": [
        "data.rename(index={'OHIO': 'INDIANA'},\n",
        "            columns={'three': 'peekaboo'})"
      ],
      "metadata": {
        "id": "m28dO7BVlMZr"
      },
      "execution_count": null,
      "outputs": []
    },
    {
      "cell_type": "code",
      "source": [
        "data.rename(index={'OHIO': 'INDIANA'}, inplace=True)\n",
        "data"
      ],
      "metadata": {
        "id": "TsGvL3e3lQVW"
      },
      "execution_count": null,
      "outputs": []
    },
    {
      "cell_type": "markdown",
      "source": [
        "String Manipulation"
      ],
      "metadata": {
        "id": "Y_3YVVIAlv7q"
      }
    },
    {
      "cell_type": "code",
      "source": [
        "val = 'a,b,  guido'\n",
        "val.split(',')"
      ],
      "metadata": {
        "id": "Me-Tg8OPlgu4"
      },
      "execution_count": null,
      "outputs": []
    },
    {
      "cell_type": "code",
      "source": [
        "pieces = [x.strip() for x in val.split(',')]\n",
        "pieces"
      ],
      "metadata": {
        "id": "7nA_9xValwVh"
      },
      "execution_count": null,
      "outputs": []
    },
    {
      "cell_type": "code",
      "source": [
        "first, second, third = pieces\n",
        "first + '::' + second + '::' + third"
      ],
      "metadata": {
        "id": "V7nqjx6JoZPy"
      },
      "execution_count": null,
      "outputs": []
    },
    {
      "cell_type": "code",
      "source": [
        "'::'.join(pieces)"
      ],
      "metadata": {
        "id": "6TUyGP3WodOH"
      },
      "execution_count": null,
      "outputs": []
    },
    {
      "cell_type": "code",
      "source": [
        "'guido' in val\n",
        "val.index(',')"
      ],
      "metadata": {
        "id": "eYynm0fcogWa"
      },
      "execution_count": null,
      "outputs": []
    },
    {
      "cell_type": "code",
      "source": [
        "val.find(':')"
      ],
      "metadata": {
        "id": "rtEs9F_jojCu"
      },
      "execution_count": null,
      "outputs": []
    },
    {
      "cell_type": "code",
      "source": [
        "data = {'Dave': 'dave@google.com', 'Steve': 'steve@gmail.com',\n",
        "        'Rob': 'rob@gmail.com', 'Wes': np.nan}\n",
        "data = pd.Series(data)\n",
        "data"
      ],
      "metadata": {
        "id": "esRXz8eyovKP"
      },
      "execution_count": null,
      "outputs": []
    },
    {
      "cell_type": "code",
      "source": [
        "data.isnull()"
      ],
      "metadata": {
        "id": "--xTcoPWpGr5"
      },
      "execution_count": null,
      "outputs": []
    },
    {
      "cell_type": "code",
      "source": [
        "data.str.contains('gmail')"
      ],
      "metadata": {
        "id": "Nq-JGFEcpWZh"
      },
      "execution_count": null,
      "outputs": []
    },
    {
      "cell_type": "markdown",
      "source": [
        "Module 05: Data Wrangling"
      ],
      "metadata": {
        "id": "fpnFG7k-pxV_"
      }
    },
    {
      "cell_type": "markdown",
      "source": [
        "Hierarchical Indexing"
      ],
      "metadata": {
        "id": "e6sWNj2_qUzU"
      }
    },
    {
      "cell_type": "code",
      "source": [
        "data = pd.Series(np.random.randn(9),\n",
        "                 index=[['a', 'a', 'a', 'b', 'b', 'c', 'c', 'd', 'd'],\n",
        "                        [1, 2, 3, 1, 3, 1, 2, 2, 3]])\n",
        "data"
      ],
      "metadata": {
        "id": "ckcSse-Vp0b0"
      },
      "execution_count": null,
      "outputs": []
    },
    {
      "cell_type": "code",
      "source": [
        "data.index"
      ],
      "metadata": {
        "id": "C7X0O7nBqVVx"
      },
      "execution_count": null,
      "outputs": []
    },
    {
      "cell_type": "code",
      "source": [
        "data['b']"
      ],
      "metadata": {
        "id": "oQHwv4AjqZ5F"
      },
      "execution_count": null,
      "outputs": []
    },
    {
      "cell_type": "code",
      "source": [
        "data['b':'c']"
      ],
      "metadata": {
        "id": "64Rn5mp8qd_v"
      },
      "execution_count": null,
      "outputs": []
    },
    {
      "cell_type": "code",
      "source": [
        "data.loc[['b', 'd']]"
      ],
      "metadata": {
        "id": "4sTf3MpHqh2s"
      },
      "execution_count": null,
      "outputs": []
    },
    {
      "cell_type": "code",
      "source": [
        "data.loc[:, 2]"
      ],
      "metadata": {
        "id": "gS8c1yUCqlk3"
      },
      "execution_count": null,
      "outputs": []
    },
    {
      "cell_type": "code",
      "source": [
        "data"
      ],
      "metadata": {
        "id": "7561Ajg7qyav"
      },
      "execution_count": null,
      "outputs": []
    },
    {
      "cell_type": "code",
      "source": [
        "data.unstack()"
      ],
      "metadata": {
        "id": "Xq82FJ-SqrAH"
      },
      "execution_count": null,
      "outputs": []
    },
    {
      "cell_type": "code",
      "source": [
        "data.unstack().stack()"
      ],
      "metadata": {
        "id": "GOZGpvSOq5E8"
      },
      "execution_count": null,
      "outputs": []
    },
    {
      "cell_type": "code",
      "source": [
        "frame = pd.DataFrame(np.arange(12).reshape((4, 3)),\n",
        "                     index=[['a', 'a', 'b', 'b'], [1, 2, 1, 2]],\n",
        "                     columns=[['Ohio', 'Ohio', 'Colorado'],\n",
        "                              ['Green', 'Red', 'Green']])\n",
        "frame"
      ],
      "metadata": {
        "id": "cqYEOYwjq9uR"
      },
      "execution_count": null,
      "outputs": []
    },
    {
      "cell_type": "code",
      "source": [
        "frame.index.names = ['key1', 'key2']\n",
        "frame"
      ],
      "metadata": {
        "id": "gP6grel3rEJu"
      },
      "execution_count": null,
      "outputs": []
    },
    {
      "cell_type": "code",
      "source": [
        "frame.columns.names = ['state', 'color']\n",
        "frame"
      ],
      "metadata": {
        "id": "eSEGmjQvrIvS"
      },
      "execution_count": null,
      "outputs": []
    },
    {
      "cell_type": "code",
      "source": [
        "frame['Ohio']"
      ],
      "metadata": {
        "id": "NG-_NnUVrRFo"
      },
      "execution_count": null,
      "outputs": []
    },
    {
      "cell_type": "markdown",
      "source": [
        "Indexing with a DataFrame's columns"
      ],
      "metadata": {
        "id": "jf5rLcECrdk-"
      }
    },
    {
      "cell_type": "code",
      "source": [
        "frame = pd.DataFrame({'a': range(7), 'b': range(7, 0, -1),\n",
        "                      'c': ['one', 'one', 'one', 'two', 'two',\n",
        "                            'two', 'two'],\n",
        "                      'd': [0, 1, 2, 0, 1, 2, 3]})\n",
        "frame"
      ],
      "metadata": {
        "id": "ZmxLbqJjrUaH"
      },
      "execution_count": null,
      "outputs": []
    },
    {
      "cell_type": "code",
      "source": [
        "frame2 = frame.set_index(['c', 'd'])\n",
        "frame2"
      ],
      "metadata": {
        "id": "8r4X_ZgIrd-G"
      },
      "execution_count": null,
      "outputs": []
    },
    {
      "cell_type": "code",
      "source": [
        "frame.set_index(['c', 'd'], drop=False)"
      ],
      "metadata": {
        "id": "n9-puIpVrkuX"
      },
      "execution_count": null,
      "outputs": []
    },
    {
      "cell_type": "code",
      "source": [
        "frame2.reset_index()"
      ],
      "metadata": {
        "id": "2j8Eevv7rp0Z"
      },
      "execution_count": null,
      "outputs": []
    },
    {
      "cell_type": "markdown",
      "source": [
        "Combining and Merging Datasets"
      ],
      "metadata": {
        "id": "TICd7_B-r5eL"
      }
    },
    {
      "cell_type": "code",
      "source": [
        "df1 = pd.DataFrame({'key': ['b', 'b', 'a', 'c', 'a', 'a', 'b'],\n",
        "                    'data1': range(7)})\n",
        "\n",
        "df1"
      ],
      "metadata": {
        "id": "yMCACu23rsxM"
      },
      "execution_count": null,
      "outputs": []
    },
    {
      "cell_type": "code",
      "source": [
        "df2 = pd.DataFrame({'key': ['a', 'b', 'd'],\n",
        "                    'data2': range(3)})\n",
        "df2"
      ],
      "metadata": {
        "id": "KsNk_e1Ar58L"
      },
      "execution_count": null,
      "outputs": []
    },
    {
      "cell_type": "code",
      "source": [
        "pd.merge(df1, df2)"
      ],
      "metadata": {
        "id": "TbRHe7AisNlG"
      },
      "execution_count": null,
      "outputs": []
    },
    {
      "cell_type": "code",
      "source": [
        "pd.merge(df1, df2, on='key')"
      ],
      "metadata": {
        "id": "vNLu8Hi3sRJW"
      },
      "execution_count": null,
      "outputs": []
    },
    {
      "cell_type": "code",
      "source": [
        "df3 = pd.DataFrame({'lkey': ['b', 'b', 'a', 'c', 'a', 'a', 'b'],\n",
        "                    'data1': range(7)})\n",
        "\n",
        "df3"
      ],
      "metadata": {
        "id": "_My3AaBDsUW1"
      },
      "execution_count": null,
      "outputs": []
    },
    {
      "cell_type": "code",
      "source": [
        "df4 = pd.DataFrame({'rkey': ['a', 'b', 'd'],\n",
        "                    'data2': range(3)})\n",
        "\n",
        "df4"
      ],
      "metadata": {
        "id": "pmhHXTPdsYUX"
      },
      "execution_count": null,
      "outputs": []
    },
    {
      "cell_type": "code",
      "source": [
        "pd.merge(df3, df4, left_on='lkey', right_on='rkey')"
      ],
      "metadata": {
        "id": "yxK8XGYysbh6"
      },
      "execution_count": null,
      "outputs": []
    },
    {
      "cell_type": "code",
      "source": [
        "pd.merge(df1, df2, how='outer')"
      ],
      "metadata": {
        "id": "pg-gSKRFsdyA"
      },
      "execution_count": null,
      "outputs": []
    },
    {
      "cell_type": "code",
      "source": [
        "df1 = pd.DataFrame({'key': ['b', 'b', 'a', 'c', 'a', 'b'],\n",
        "                    'data1': range(6)})\n",
        "df1"
      ],
      "metadata": {
        "id": "wMRwyBuqsieV"
      },
      "execution_count": null,
      "outputs": []
    },
    {
      "cell_type": "code",
      "source": [
        "df2 = pd.DataFrame({'key': ['a', 'b', 'a', 'b', 'd'],\n",
        "                    'data2': range(5)})\n",
        "df2"
      ],
      "metadata": {
        "id": "jk5JpPsRsoLO"
      },
      "execution_count": null,
      "outputs": []
    },
    {
      "cell_type": "code",
      "source": [
        "pd.merge(df1, df2, on='key', how='left')"
      ],
      "metadata": {
        "id": "zHsPFhsjsqt1"
      },
      "execution_count": null,
      "outputs": []
    },
    {
      "cell_type": "code",
      "source": [
        "pd.merge(df1, df2, how='inner')"
      ],
      "metadata": {
        "id": "Iud17mcosscP"
      },
      "execution_count": null,
      "outputs": []
    },
    {
      "cell_type": "code",
      "source": [
        "lefth = pd.DataFrame({'key1': ['Ohio', 'Ohio', 'Ohio', 'Nevada', 'Nevada'],\n",
        "                      'key2': [2000, 2001, 2002, 2001, 2002],\n",
        "                      'data': np.arange(5.)})\n",
        "\n",
        "lefth"
      ],
      "metadata": {
        "id": "ytPw-Ul6svfL"
      },
      "execution_count": null,
      "outputs": []
    },
    {
      "cell_type": "code",
      "source": [
        "righth = pd.DataFrame(np.arange(12).reshape((6, 2)),\n",
        "                      index=[['Nevada', 'Nevada', 'Ohio', 'Ohio', 'Ohio', 'Ohio'],\n",
        "                             [2001, 2000, 2000, 2000, 2001, 2002]],\n",
        "                      columns=['event1', 'event2'])\n",
        "righth"
      ],
      "metadata": {
        "id": "fnnUvDTWs4iX"
      },
      "execution_count": null,
      "outputs": []
    },
    {
      "cell_type": "code",
      "source": [
        "pd.merge(lefth, righth, left_on=['key1', 'key2'], right_index=True)"
      ],
      "metadata": {
        "id": "MAaQJ9oCs_JH"
      },
      "execution_count": null,
      "outputs": []
    },
    {
      "cell_type": "code",
      "source": [
        "pd.merge(lefth, righth, left_on=['key1', 'key2'], right_index=True, how='outer')"
      ],
      "metadata": {
        "id": "hwZEBkT3tEXv"
      },
      "execution_count": null,
      "outputs": []
    },
    {
      "cell_type": "code",
      "source": [
        "left2 = pd.DataFrame([[1., 2.], [3., 4.], [5., 6.]],\n",
        "                     index=['a', 'c', 'e'],\n",
        "                     columns=['Ohio', 'Nevada'])\n",
        "\n",
        "left2"
      ],
      "metadata": {
        "id": "6-3cCW2htIhA"
      },
      "execution_count": null,
      "outputs": []
    },
    {
      "cell_type": "code",
      "source": [
        "right2 = pd.DataFrame([[7., 8.], [9., 10.], [11., 12.], [13, 14]],\n",
        "                      index=['b', 'c', 'd', 'e'],\n",
        "                      columns=['Missouri', 'Alabama'])\n",
        "right2"
      ],
      "metadata": {
        "id": "RdlEcGw-tS9O"
      },
      "execution_count": null,
      "outputs": []
    },
    {
      "cell_type": "code",
      "source": [
        "pd.merge(left2, right2, how='outer', left_index=True, right_index=True)"
      ],
      "metadata": {
        "id": "2U4D-YG_tWKz"
      },
      "execution_count": null,
      "outputs": []
    },
    {
      "cell_type": "code",
      "source": [
        "left2.join(right2, how='outer')"
      ],
      "metadata": {
        "id": "MShwfuE2tZCN"
      },
      "execution_count": null,
      "outputs": []
    },
    {
      "cell_type": "markdown",
      "source": [
        "Reshaping and Pivoting"
      ],
      "metadata": {
        "id": "6xD0WvsVtqji"
      }
    },
    {
      "cell_type": "code",
      "source": [
        "data = pd.DataFrame(np.arange(6).reshape((2, 3)),\n",
        "                    index=pd.Index(['Ohio', 'Colorado'], name='state'),\n",
        "                    columns=pd.Index(['one', 'two', 'three'],\n",
        "                    name='number'))\n",
        "data"
      ],
      "metadata": {
        "id": "R6Mof1XTthGH"
      },
      "execution_count": null,
      "outputs": []
    },
    {
      "cell_type": "code",
      "source": [
        "result = data.stack()\n",
        "result"
      ],
      "metadata": {
        "id": "EhMlZUQDtq_u"
      },
      "execution_count": null,
      "outputs": []
    },
    {
      "cell_type": "code",
      "source": [
        "result.unstack()"
      ],
      "metadata": {
        "id": "qf7cir2gt082"
      },
      "execution_count": null,
      "outputs": []
    },
    {
      "cell_type": "code",
      "source": [
        "result.unstack(0)"
      ],
      "metadata": {
        "id": "-OqqBC3lt28-"
      },
      "execution_count": null,
      "outputs": []
    },
    {
      "cell_type": "code",
      "source": [
        "result.unstack(1)"
      ],
      "metadata": {
        "id": "vHn9jNcmt-JC"
      },
      "execution_count": null,
      "outputs": []
    },
    {
      "cell_type": "code",
      "source": [
        "from google.colab import drive"
      ],
      "metadata": {
        "id": "6yrgqTUzuget"
      },
      "execution_count": null,
      "outputs": []
    },
    {
      "cell_type": "code",
      "source": [
        "drive.mount('/content/drive/')"
      ],
      "metadata": {
        "id": "rdaQalGAu7FG"
      },
      "execution_count": null,
      "outputs": []
    },
    {
      "cell_type": "code",
      "source": [
        "path = '/content/drive/MyDrive/'"
      ],
      "metadata": {
        "id": "_wbRscAKu_22"
      },
      "execution_count": null,
      "outputs": []
    },
    {
      "cell_type": "code",
      "source": [
        "data = pd.read_csv(path + 'examples/macrodata.csv')\n",
        "data.head()"
      ],
      "metadata": {
        "id": "5yMz4fiAuHP1"
      },
      "execution_count": null,
      "outputs": []
    },
    {
      "cell_type": "code",
      "source": [
        "periods = pd.PeriodIndex(year=data.year, quarter=data.quarter, name='date')\n",
        "columns = pd.Index(['realgdp', 'infl', 'unemp'], name='item')\n",
        "\n",
        "data = data.reindex(columns=columns)\n",
        "data"
      ],
      "metadata": {
        "id": "dX9ekIl-vCjo"
      },
      "execution_count": null,
      "outputs": []
    },
    {
      "cell_type": "code",
      "source": [
        "data.index = periods.to_timestamp('D', 'end')\n",
        "data"
      ],
      "metadata": {
        "id": "BlR6uBLRvKnB"
      },
      "execution_count": null,
      "outputs": []
    },
    {
      "cell_type": "code",
      "source": [
        "ldata = data.stack().reset_index().rename(columns={0: 'value'})\n",
        "ldata"
      ],
      "metadata": {
        "id": "UL7GPPBGvXU3"
      },
      "execution_count": null,
      "outputs": []
    },
    {
      "cell_type": "code",
      "source": [
        "ldata[:10]"
      ],
      "metadata": {
        "id": "APhKyhvqvcUN"
      },
      "execution_count": null,
      "outputs": []
    },
    {
      "cell_type": "code",
      "source": [
        "pivoted = ldata.pivot('date', 'item', 'value')\n",
        "pivoted"
      ],
      "metadata": {
        "id": "KJZWguBnvgfO"
      },
      "execution_count": null,
      "outputs": []
    },
    {
      "cell_type": "code",
      "source": [
        "df = pd.DataFrame({'key': ['foo', 'bar', 'baz'],\n",
        "                   'A': [1, 2, 3],\n",
        "                   'B': [4, 5, 6],\n",
        "                   'C': [7, 8, 9]})\n",
        "df"
      ],
      "metadata": {
        "id": "ggOvrhwhvitx"
      },
      "execution_count": null,
      "outputs": []
    },
    {
      "cell_type": "code",
      "source": [
        "melted = pd.melt(df, ['key'])\n",
        "melted"
      ],
      "metadata": {
        "id": "33uKXrFTvo3J"
      },
      "execution_count": null,
      "outputs": []
    },
    {
      "cell_type": "code",
      "source": [
        "reshaped = melted.pivot('key', 'variable', 'value')\n",
        "reshaped"
      ],
      "metadata": {
        "id": "lgkYf18yvq85"
      },
      "execution_count": null,
      "outputs": []
    },
    {
      "cell_type": "markdown",
      "source": [
        "Module 06: Plotting and Visualization"
      ],
      "metadata": {
        "id": "eMnF45wqv9a6"
      }
    },
    {
      "cell_type": "code",
      "source": [
        "import matplotlib.pyplot as plt\n",
        "\n",
        "print(plt)"
      ],
      "metadata": {
        "id": "VBqB5jjHv983"
      },
      "execution_count": null,
      "outputs": []
    },
    {
      "cell_type": "code",
      "source": [
        "import matplotlib.pyplot as plt\n",
        "\n",
        "x = [1, 2, 3, 4, 5]\n",
        "y = [5, 15, 15, 20, 10]\n",
        "\n",
        "plt.plot(x, y)\n",
        "plt.show()"
      ],
      "metadata": {
        "id": "JBRsf5n94Jox"
      },
      "execution_count": null,
      "outputs": []
    },
    {
      "cell_type": "code",
      "source": [
        "import matplotlib.pyplot as plt\n",
        "\n",
        "data = [5, 20, 10, 15, 10]\n",
        "\n",
        "plt.plot(data)\n",
        "plt.show()"
      ],
      "metadata": {
        "id": "u0o0LxqE4L35"
      },
      "execution_count": null,
      "outputs": []
    },
    {
      "cell_type": "code",
      "source": [
        "import matplotlib.pyplot as plt\n",
        "\n",
        "y = [5, 20, 10, 15, 10]\n",
        "x = ['Mon', 'Tue', 'Wed', 'Thu', 'Fri']\n",
        "\n",
        "plt.plot(x, y)\n",
        "plt.show()"
      ],
      "metadata": {
        "id": "vVjrIuAO4RqN"
      },
      "execution_count": null,
      "outputs": []
    },
    {
      "cell_type": "code",
      "source": [
        "import matplotlib.pyplot as plt\n",
        "import numpy as np\n",
        "\n",
        "y = np.random.randint(1, 11, 5)\n",
        "x = list('ABCDE')\n",
        "\n",
        "plt.plot(x, y)\n",
        "plt.show()"
      ],
      "metadata": {
        "id": "mCikcm354U49"
      },
      "execution_count": null,
      "outputs": []
    },
    {
      "cell_type": "code",
      "source": [
        "import matplotlib.pyplot as plt\n",
        "import numpy as np\n",
        "\n",
        "y = np.random.randint(1, 11, 5)\n",
        "x = list('ABCDE')\n",
        "\n",
        "plt.rcParams['figure.figsize'] = (10, 5)  #width = 10\", height=5\"\n",
        "plt.plot(x, y)\n",
        "plt.show()"
      ],
      "metadata": {
        "id": "MCxEPinA4bLM"
      },
      "execution_count": null,
      "outputs": []
    },
    {
      "cell_type": "code",
      "source": [
        "import matplotlib.pyplot as plt\n",
        "import numpy as np\n",
        "\n",
        "plt.style.use('seaborn')\n",
        "\n",
        "y = np.random.randint(1, 11, 5)\n",
        "x = list('abdef')\n",
        "\n",
        "plt.plot(x, y)\n",
        "plt.show()"
      ],
      "metadata": {
        "id": "xzB14uQJ4gEy"
      },
      "execution_count": null,
      "outputs": []
    },
    {
      "cell_type": "code",
      "source": [
        "import matplotlib.pyplot as plt\n",
        "\n",
        "plt.style.available"
      ],
      "metadata": {
        "id": "f7y06KVj4k-y"
      },
      "execution_count": null,
      "outputs": []
    },
    {
      "cell_type": "code",
      "source": [
        "import matplotlib.pyplot as plt\n",
        "\n",
        "plt.style.use('seaborn')\n",
        "\n",
        "y = (15, 12, 19, 13, 16, 17, 12)\n",
        "x = ['Sun', 'Mon', 'Tue', 'Wed', 'Thu', 'Fri', 'Sat']\n",
        "\n",
        "plt.title('Sales of Week', color='blue', alpha=0.8)\n",
        "\n",
        "plt.ylabel('Sales Amount', color='m', fontsize=14)\n",
        "plt.xlabel('Date', color='g', fontsize=14)\n",
        "\n",
        "plt.yticks(color='r')\n",
        "plt.xticks(rotation='vertical', color='r', fontsize=13)\n",
        "\n",
        "plt.plot(x, y)\n",
        "plt.show()"
      ],
      "metadata": {
        "id": "hMb_ffPv4uRZ"
      },
      "execution_count": null,
      "outputs": []
    },
    {
      "cell_type": "code",
      "source": [
        "import matplotlib.pyplot as plt\n",
        "\n",
        "plt.style.use('seaborn')\n",
        "\n",
        "y = [5, 15, 15, 20, 10]\n",
        "x = [1, 3, 5, 7, 9]\n",
        "plt.plot(y)\n",
        "\n",
        "plt.xticks([0, 1, 2, 3, 4])\n",
        "\n",
        "plt.show()"
      ],
      "metadata": {
        "id": "0MREYbbJ40d2"
      },
      "execution_count": null,
      "outputs": []
    },
    {
      "cell_type": "code",
      "source": [
        "import matplotlib.pyplot as plt\n",
        "import numpy as np\n",
        "\n",
        "plt.style.use('seaborn')\n",
        "\n",
        "y = np.random.randint(10, 100, 11)\n",
        "x = np.arange(2010, 2021)\n",
        "\n",
        "plt.axis([2015, 2020, 10, 100])\n",
        "\n",
        "plt.plot(x, y)\n",
        "plt.show()"
      ],
      "metadata": {
        "id": "oaiXF7K15sLK"
      },
      "execution_count": null,
      "outputs": []
    },
    {
      "cell_type": "code",
      "source": [
        "import matplotlib.pyplot as plt\n",
        "\n",
        "plt.style.use('seaborn')\n",
        "\n",
        "y = [6, 8, 5, 7]\n",
        "x = [1, 2, 3, 4]\n",
        "\n",
        "plt.plot(x, y, '--ro')\n",
        "plt.grid(color='g', alpha=0.1,\n",
        "         lw=2, linestyle='--')\n",
        "\n",
        "plt.show()"
      ],
      "metadata": {
        "id": "mI9nxxTp5yzS"
      },
      "execution_count": null,
      "outputs": []
    },
    {
      "cell_type": "code",
      "source": [
        "import matplotlib.pyplot as plt\n",
        "\n",
        "plt.style.use('seaborn')\n",
        "\n",
        "y = [10, 15, 15, 20, 10]\n",
        "x = [1, 2, 3, 4, 5]\n",
        "plt.plot(x, y, ls='-', c='r', label='Product #1')\n",
        "\n",
        "y = [15, 25, 10, 15, 20]\n",
        "plt.plot(x, y, ls='--', c='g', label='Product #2')\n",
        "\n",
        "y = [10, 20, 15, 10, 15]\n",
        "plt.plot(x, y, ls=':', c='b', label='Product #3')\n",
        "\n",
        "plt.legend(loc='best')\n",
        "\n",
        "plt.show()"
      ],
      "metadata": {
        "id": "JLWRoc_q53i_"
      },
      "execution_count": null,
      "outputs": []
    },
    {
      "cell_type": "code",
      "source": [
        "import matplotlib.pyplot as plt\n",
        "\n",
        "plt.style.use('seaborn')\n",
        "\n",
        "y = np.random.randint(1, 6, 4)\n",
        "x = list('ABCD')\n",
        "\n",
        "plt.subplot(2,2,1)\n",
        "plt.plot(x, y, 'ro-')\n",
        "\n",
        "y = np.random.randint(1, 6, 4)\n",
        "plt.subplot(2,2,2)\n",
        "plt.plot(x, y, 'ro--')\n",
        "\n",
        "y = np.random.randint(1, 6, 4)\n",
        "plt.subplot(2,2,3)\n",
        "plt.plot(x, y, 'ro:')\n",
        "\n",
        "y = np.random.randint(1, 6, 4)\n",
        "plt.subplot(2,2,4)\n",
        "plt.plot(x, y, 'ro-.')\n",
        "\n",
        "plt.subplots_adjust(wspace=0.3, hspace=0.3)\n",
        "plt.show()"
      ],
      "metadata": {
        "id": "WUjXOdH86EYC"
      },
      "execution_count": null,
      "outputs": []
    },
    {
      "cell_type": "code",
      "source": [
        "import matplotlib.pyplot as plt\n",
        "\n",
        "y = [50, 70, 35, 90, 40]\n",
        "x = ['Mon', 'Tue', 'Wed', 'Thu', 'Fri']\n",
        "\n",
        "plt.bar(x, y, color='g', alpha=0.8)\n",
        "plt.xticks(rotation=45)\n",
        "\n",
        "plt.show()"
      ],
      "metadata": {
        "id": "MoU1nSl96VyA"
      },
      "execution_count": null,
      "outputs": []
    },
    {
      "cell_type": "code",
      "source": [
        "import matplotlib.pyplot as plt\n",
        "import numpy as np\n",
        "\n",
        "plt.style.use(\"ggplot\")\n",
        "\n",
        "y = [2, 4, 1, 2, 3, 2, 1, 2, 3, 2]\n",
        "x = np.arange(1, 11)\n",
        "\n",
        "plt.bar(x, y, color='m')\n",
        "plt.title('Bar Plot')\n",
        "plt.xlabel('Play')\n",
        "plt.ylabel('Score')\n",
        "plt.grid(color='y', alpha=0.2)\n",
        "\n",
        "plt.show()"
      ],
      "metadata": {
        "id": "LgyZkt6q6gCc"
      },
      "execution_count": null,
      "outputs": []
    },
    {
      "cell_type": "code",
      "source": [
        "import matplotlib.pyplot as plt\n",
        "\n",
        "y = [50, 70, 35, 90, 40]\n",
        "x = ['Mon', 'Tue', 'Wed', 'Thu', 'Fri']\n",
        "\n",
        "plt.bar(x, y, color='#dddddd', alpha=0.8, hatch='\\\\\\\\')\n",
        "plt.xticks(rotation=45)\n",
        "\n",
        "plt.show()"
      ],
      "metadata": {
        "id": "QN9OxJHg6nPC"
      },
      "execution_count": null,
      "outputs": []
    },
    {
      "cell_type": "code",
      "source": [
        "import matplotlib.pyplot as plt\n",
        "\n",
        "plt.style.use('seaborn')\n",
        "\n",
        "y = [50, 20, 15, 5, 10]\n",
        "x = ['Chrome', 'Edge', 'Firefox', 'Opera', 'Safari']\n",
        "\n",
        "plt.barh(x, y, color='c', alpha=0.8)\n",
        "#plt.xticks(rotation=45)\n",
        "\n",
        "plt.show()"
      ],
      "metadata": {
        "id": "uRaIfqpR6vrr"
      },
      "execution_count": null,
      "outputs": []
    },
    {
      "cell_type": "code",
      "source": [
        "import matplotlib.pyplot as plt\n",
        "\n",
        "plt.style.use('seaborn')\n",
        "\n",
        "y = [10, 15, 15, 20, 10]\n",
        "x = [1, 2, 3, 4, 5]\n",
        "plt.bar(x, y, hatch='..', color='lightgray', label='Product #1')\n",
        "\n",
        "y = [15, 25, 10, 15, 20]\n",
        "plt.bar(x, y, color='lightgreen', label='Product #2')\n",
        "\n",
        "y = [10, 20, 15, 10, 15]\n",
        "plt.bar(x, y, color='g', label='Product #3')\n",
        "\n",
        "plt.legend(loc='best')\n",
        "\n",
        "plt.show()"
      ],
      "metadata": {
        "id": "jol8Fz396z8-"
      },
      "execution_count": null,
      "outputs": []
    },
    {
      "cell_type": "code",
      "source": [
        "import matplotlib.pyplot as plt\n",
        "import numpy as np\n",
        "\n",
        "plt.style.use('seaborn')\n",
        "\n",
        "y = np.random.randint(1, 6, 4)\n",
        "x = list('ABCD')\n",
        "plt.subplot(2,2,1)\n",
        "plt.bar(x, y, color='r')\n",
        "\n",
        "y = np.random.randint(1, 6, 4)\n",
        "x = list('ABCD')\n",
        "plt.subplot(2,2,2)\n",
        "plt.bar(x, y, color='lightgreen')\n",
        "\n",
        "y = np.random.randint(1, 6, 4)\n",
        "x = list('ABCD')\n",
        "plt.subplot(2,2,3)\n",
        "plt.barh(x, y, color='b')\n",
        "\n",
        "y = np.random.randint(1, 6, 4)\n",
        "x = list('ABCD')\n",
        "plt.subplot(2,2,4)\n",
        "plt.barh(x, y, color='lightblue')\n",
        "\n",
        "plt.subplots_adjust(wspace=0.3, hspace=0.3)\n",
        "\n",
        "plt.show()"
      ],
      "metadata": {
        "id": "cXiV0x-l7Ebc"
      },
      "execution_count": null,
      "outputs": []
    },
    {
      "cell_type": "code",
      "source": [
        "import matplotlib.pyplot as plt\n",
        "\n",
        "data = [50, 20, 15, 5, 10]\n",
        "lb = ['Chrome', 'Edge', 'Firefox',\n",
        "      'Opera', 'Safari']\n",
        "\n",
        "plt.pie(data, labels=lb,\n",
        "        startangle=45,\n",
        "        colors=['lightgreen', 'lightgray', 'lightblue',\n",
        "                'lightcyan', 'lightyellow'])\n",
        "\n",
        "\n",
        "plt.show()"
      ],
      "metadata": {
        "id": "ADiywy5d7TYW"
      },
      "execution_count": null,
      "outputs": []
    },
    {
      "cell_type": "code",
      "source": [
        "import matplotlib.pyplot as plt\n",
        "\n",
        "data = [25, 20, 35, 10, 5]\n",
        "lb = ['Chrome', 'Edge', 'Firefox', 'Opera', 'Safari']\n",
        "explode = [0, 0.1, 0, 0.2, 0]\n",
        "\n",
        "plt.pie(data, labels=lb,\n",
        "        explode=explode, startangle=30,\n",
        "        colors=['lightgray', '#ffffcc', 'pink', 'lightgreen', 'aqua'],\n",
        "        shadow=True, autopct=\"%.1f%%\")\n",
        "\n",
        "plt.show()"
      ],
      "metadata": {
        "id": "X3H7T3078JUT"
      },
      "execution_count": null,
      "outputs": []
    },
    {
      "cell_type": "code",
      "source": [
        "import matplotlib.pyplot as plt\n",
        "\n",
        "plt.style.use('seaborn-white')\n",
        "\n",
        "data = np.random.randint(10, 101, 30)  #สร้างเลขสุ่มระหว่าง 10-100 ทั้งหมด 30 จำนวน\n",
        "\n",
        "plt.hist(data, bins=np.arange(10, 101, 10), color='lightblue' , edgecolor='k', alpha=0.5)\n",
        "\n",
        "plt.xticks(np.arange(10, 101, 10))\n",
        "\n",
        "plt.show()"
      ],
      "metadata": {
        "id": "djDTlceS8Z-D"
      },
      "execution_count": null,
      "outputs": []
    },
    {
      "cell_type": "code",
      "source": [
        "import pandas as pd\n",
        "import matplotlib.pyplot as plt\n",
        "import numpy as np\n",
        "\n",
        "plt.style.use('seaborn')\n",
        "\n",
        "data = np.random.randint(10, 101, 20)\n",
        "sr = pd.Series(data)\n",
        "\n",
        "sr[sr > 50].head(5).plot(kind='barh', use_index=False,\n",
        "                         fontsize=14,\n",
        "                         xticks=np.arange(0, 100, 15))"
      ],
      "metadata": {
        "id": "OA_30_cy_E79"
      },
      "execution_count": null,
      "outputs": []
    },
    {
      "cell_type": "code",
      "source": [
        "import pandas as pd\n",
        "import matplotlib.pyplot as plt\n",
        "import numpy as np\n",
        "\n",
        "plt.style.use('seaborn')\n",
        "\n",
        "data = {'one': np.random.randint(10, 101, 5),\n",
        "        'two': np.random.randint(10, 101, 5),\n",
        "        'three': np.random.randint(10, 101, 5)}\n",
        "\n",
        "df = pd.DataFrame(data, index=list('ABCDE'))\n",
        "\n",
        "df.plot.barh(fontsize=14, width=0.7, grid=True,\n",
        "             use_index=True, color=['b', 'lightblue', 'm'])"
      ],
      "metadata": {
        "id": "2YRGLHlJ_nwG"
      },
      "execution_count": null,
      "outputs": []
    },
    {
      "cell_type": "code",
      "source": [
        "import matplotlib.pyplot as plt\n",
        "import numpy as np\n",
        "\n",
        "plt.style.use('seaborn')\n",
        "\n",
        "y = np.random.randint(1, 101, 20)\n",
        "x = np.arange(1, 21)\n",
        "\n",
        "plt.scatter(x, y, color='blue', marker='o')\n",
        "\n",
        "plt.yticks(np.arange(0, 101, 10))\n",
        "plt.xticks(x)\n",
        "\n",
        "plt.show()"
      ],
      "metadata": {
        "id": "P2eAlGhF8zG4"
      },
      "execution_count": null,
      "outputs": []
    },
    {
      "cell_type": "code",
      "source": [
        "import matplotlib.pyplot as plt\n",
        "from mpl_toolkits.mplot3d import Axes3D\n",
        "\n",
        "fig = plt.figure()\n",
        "ax = Axes3D(fig)\n",
        "\n",
        "ax.set_xlabel('X Axis')\n",
        "ax.set_ylabel('Y Axis')\n",
        "ax.set_zlabel('Z Axis')\n",
        "\n",
        "ax = plt.axes(projection='3d')"
      ],
      "metadata": {
        "id": "Q-9LV1qz87mI"
      },
      "execution_count": null,
      "outputs": []
    },
    {
      "cell_type": "code",
      "source": [
        "import numpy as np\n",
        "import matplotlib.pyplot as plt\n",
        "from mpl_toolkits.mplot3d import Axes3D\n",
        "\n",
        "fig = plt.figure()\n",
        "ax = Axes3D(fig)\n",
        "ax = plt.axes(projection='3d')\n",
        "\n",
        "x = np.random.randint(10, 20, 5)\n",
        "y = np.random.randint(30, 40, 5)\n",
        "z = np.random.uniform(1, 5, 5)\n",
        "\n",
        "ax.plot3D(x, y, z, 'ro--')\n",
        "\n",
        "ax.set_xlabel('X')\n",
        "ax.set_ylabel('Y')\n",
        "ax.set_zlabel('Z')"
      ],
      "metadata": {
        "id": "US72A-T69HcF"
      },
      "execution_count": null,
      "outputs": []
    },
    {
      "cell_type": "code",
      "source": [
        "import numpy as np\n",
        "import matplotlib.pyplot as plt\n",
        "from mpl_toolkits.mplot3d import Axes3D\n",
        "\n",
        "fig = plt.figure()\n",
        "ax = Axes3D(fig)\n",
        "ax = plt.axes(projection='3d')\n",
        "\n",
        "x = np.random.randint(10, 20, 20)\n",
        "y = np.random.randint(30, 40, 20)\n",
        "z = np.random.uniform(1, 5, 20)\n",
        "\n",
        "ax.scatter(x, y, z, color='green', marker='o')\n",
        "\n",
        "ax.set_xlabel('X')\n",
        "ax.set_ylabel('Y')\n",
        "ax.set_zlabel('Z')"
      ],
      "metadata": {
        "id": "-bkNEgQW9Z29"
      },
      "execution_count": null,
      "outputs": []
    },
    {
      "cell_type": "markdown",
      "source": [
        "Pandas"
      ],
      "metadata": {
        "id": "htVi69YE-a05"
      }
    },
    {
      "cell_type": "code",
      "source": [
        "import pandas as pd\n",
        "import numpy as np\n",
        "\n",
        "sr = pd.Series([40, 20, 50, 30, 40, 20])\n",
        "sr.plot.line()"
      ],
      "metadata": {
        "id": "l73kWrU79jGd"
      },
      "execution_count": null,
      "outputs": []
    },
    {
      "cell_type": "code",
      "source": [
        "import pandas as pd\n",
        "import numpy as np\n",
        "\n",
        "data = np.random.randint(10, 101, 10)\n",
        "sr = pd.Series(data, index=list('abcdefghij'))\n",
        "\n",
        "sr.plot(kind='line', title='Line Plot with Pandas',\n",
        "        style='ro--', grid=True, fontsize=16)"
      ],
      "metadata": {
        "id": "Q4-QnWCn-ciH"
      },
      "execution_count": null,
      "outputs": []
    },
    {
      "cell_type": "code",
      "source": [
        "import pandas as pd\n",
        "import numpy as np\n",
        "\n",
        "data = np.random.randint(10, 101, 10)\n",
        "sr = pd.Series(data, index=list('abcdefghij'))\n",
        "\n",
        "sr.plot.line(style='mD:', grid=True, use_index=False,\n",
        "             xticks=np.arange(0, 10, 1),\n",
        "             yticks=np.arange(0, 110, 10))"
      ],
      "metadata": {
        "id": "Hk75XVgy-kIy"
      },
      "execution_count": null,
      "outputs": []
    },
    {
      "cell_type": "code",
      "source": [
        "import pandas as pd\n",
        "import numpy as np\n",
        "\n",
        "#เลือกเฉพาะจำนวนที่มีค่า 50 ขึ้นไปมาสร้างเป็นกราฟ\n",
        "data = np.random.randint(10, 101, 20)\n",
        "sr = pd.Series(data)\n",
        "\n",
        "sr[sr > 50].plot(kind='line', style='bp--',\n",
        "                 grid=True, use_index=False)"
      ],
      "metadata": {
        "id": "LgOEEodr-qSX"
      },
      "execution_count": null,
      "outputs": []
    },
    {
      "cell_type": "code",
      "source": [
        "import pandas as pd\n",
        "import numpy as np\n",
        "\n",
        "#แสดงกราฟของข้อมูล 10 รายการสุดท้าย\n",
        "data = np.random.randint(10, 101, 30)\n",
        "sr = pd.Series(data)\n",
        "\n",
        "sr.tail(10).plot(kind='line', style='bp--',\n",
        "                 grid=True, use_index=True)"
      ],
      "metadata": {
        "id": "Dy-V_QKO-z5_"
      },
      "execution_count": null,
      "outputs": []
    },
    {
      "cell_type": "code",
      "source": [
        "import pandas as pd\n",
        "import numpy as np\n",
        "\n",
        "sr = pd.Series([40, 20, 50, 30, 40, 20],\n",
        "               index=np.arange(1, 7))\n",
        "\n",
        "sr.plot.bar(rot=0, use_index=True, color='lightblue')"
      ],
      "metadata": {
        "id": "VPs6l15M-5HE"
      },
      "execution_count": null,
      "outputs": []
    },
    {
      "cell_type": "code",
      "source": [
        "import pandas as pd\n",
        "import matplotlib.pyplot as plt\n",
        "import numpy as np\n",
        "\n",
        "data = {'one': np.random.randint(10, 101, 5),\n",
        "        'two': np.random.randint(10, 101, 5),\n",
        "        'three': np.random.randint(10, 101, 5)}\n",
        "\n",
        "df = pd.DataFrame(data, index=list('ABCDE'))\n",
        "\n",
        "exp = [0, 0.2, 0, 0, 0.2]\n",
        "df['two'].plot.pie(fontsize=14, autopct='%.1f%%',\n",
        "                   startangle=45, shadow=False,\n",
        "                   explode=exp,\n",
        "                   colors=['lightgreen', 'lightcyan', 'pink',\n",
        "                           'lightblue', 'wheat'])\n",
        "\n",
        "plt.ylabel('')"
      ],
      "metadata": {
        "id": "LPyGII2X_P6J"
      },
      "execution_count": null,
      "outputs": []
    },
    {
      "cell_type": "markdown",
      "source": [
        "Module 07: Data Aggregation"
      ],
      "metadata": {
        "id": "dA9uRQZpANXw"
      }
    },
    {
      "cell_type": "code",
      "source": [
        "# GroupBy Mechanics\n",
        "\n",
        "df = pd.DataFrame({'key1' : ['a', 'a', 'b', 'b', 'a'],\n",
        "                   'key2' : ['one', 'two', 'one', 'two', 'one'],\n",
        "                   'data1' : np.random.randn(5),\n",
        "                   'data2' : np.random.randn(5)})\n",
        "df"
      ],
      "metadata": {
        "id": "v2S_Y8ZGAN7g"
      },
      "execution_count": null,
      "outputs": []
    },
    {
      "cell_type": "code",
      "source": [
        "grouped = df['data1'].groupby(df['key1'])\n",
        "grouped"
      ],
      "metadata": {
        "id": "GIKJQ-F8BQwC"
      },
      "execution_count": null,
      "outputs": []
    },
    {
      "cell_type": "code",
      "source": [
        "grouped.mean()"
      ],
      "metadata": {
        "id": "CJqLFkz_BUZt"
      },
      "execution_count": null,
      "outputs": []
    },
    {
      "cell_type": "code",
      "source": [
        "means = df['data1'].groupby([df['key1'], df['key2']]).mean()\n",
        "means"
      ],
      "metadata": {
        "id": "95qM6shcBaUs"
      },
      "execution_count": null,
      "outputs": []
    },
    {
      "cell_type": "code",
      "source": [
        "means.unstack()"
      ],
      "metadata": {
        "id": "4Zlj_qTPBhe7"
      },
      "execution_count": null,
      "outputs": []
    },
    {
      "cell_type": "code",
      "source": [
        "for name, group in df.groupby('key1'):\n",
        "    print(name)\n",
        "    print(group)"
      ],
      "metadata": {
        "id": "1T-HzAq2BkaG"
      },
      "execution_count": null,
      "outputs": []
    },
    {
      "cell_type": "code",
      "source": [
        "for (k1, k2), group in df.groupby(['key1', 'key2']):\n",
        "    print((k1, k2))\n",
        "    print(group)"
      ],
      "metadata": {
        "id": "F2TWH9DdBrgV"
      },
      "execution_count": null,
      "outputs": []
    },
    {
      "cell_type": "code",
      "source": [
        "pieces = dict(list(df.groupby('key1')))\n",
        "pieces['b']"
      ],
      "metadata": {
        "id": "8dc0FlTlCABh"
      },
      "execution_count": null,
      "outputs": []
    },
    {
      "cell_type": "markdown",
      "source": [
        "Grouping with Dicts and Series"
      ],
      "metadata": {
        "id": "R9oOgzzuMdf3"
      }
    },
    {
      "cell_type": "code",
      "source": [
        "people = pd.DataFrame(np.random.randn(5, 5),\n",
        "                      columns=['a', 'b', 'c', 'd', 'e'],\n",
        "                      index=['Joe', 'Steve', 'Wes', 'Jim', 'Travis'])\n",
        "people.iloc[2:3, [1, 2]] = np.nan # Add a few NA values\n",
        "people"
      ],
      "metadata": {
        "id": "c7_LkyCHFcVL"
      },
      "execution_count": null,
      "outputs": []
    },
    {
      "cell_type": "code",
      "source": [
        "mapping = {'a': 'red', 'b': 'red', 'c': 'blue',\n",
        "           'd': 'blue', 'e': 'red', 'f' : 'orange'}"
      ],
      "metadata": {
        "id": "4HmTGxfdMYvK"
      },
      "execution_count": null,
      "outputs": []
    },
    {
      "cell_type": "code",
      "source": [
        "by_column = people.groupby(mapping, axis=1)\n",
        "by_column.sum()"
      ],
      "metadata": {
        "id": "pUOBssoWMd-P"
      },
      "execution_count": null,
      "outputs": []
    },
    {
      "cell_type": "code",
      "source": [
        "map_series = pd.Series(mapping)\n",
        "map_series\n",
        "people.groupby(map_series, axis=1).count()"
      ],
      "metadata": {
        "id": "XvpUHkKxMkvw"
      },
      "execution_count": null,
      "outputs": []
    },
    {
      "cell_type": "markdown",
      "source": [
        "Grouping with Functions"
      ],
      "metadata": {
        "id": "NVuqF02XMpyM"
      }
    },
    {
      "cell_type": "code",
      "source": [
        "people.groupby(len).sum()"
      ],
      "metadata": {
        "id": "6QzZ7lIiMq7q"
      },
      "execution_count": null,
      "outputs": []
    },
    {
      "cell_type": "code",
      "source": [
        "key_list = ['one', 'one', 'one', 'two', 'two']\n",
        "people.groupby([len, key_list]).min()"
      ],
      "metadata": {
        "id": "IdR1VM9sMyqS"
      },
      "execution_count": null,
      "outputs": []
    },
    {
      "cell_type": "markdown",
      "source": [
        "Grouping by Index Levels"
      ],
      "metadata": {
        "id": "DYt5OYgcM3Ng"
      }
    },
    {
      "cell_type": "code",
      "source": [
        "columns = pd.MultiIndex.from_arrays([['US', 'US', 'US', 'JP', 'JP'],\n",
        "                                    [1, 3, 5, 1, 3]],\n",
        "                                    names=['cty', 'tenor'])\n",
        "hier_df = pd.DataFrame(np.random.randn(4, 5), columns=columns)\n",
        "hier_df"
      ],
      "metadata": {
        "id": "Nea1be73M5TV"
      },
      "execution_count": null,
      "outputs": []
    },
    {
      "cell_type": "code",
      "source": [
        "hier_df.groupby(level='cty', axis=1).count()"
      ],
      "metadata": {
        "id": "aSVgejUKM9Pq"
      },
      "execution_count": null,
      "outputs": []
    },
    {
      "cell_type": "markdown",
      "source": [
        "Column-Wise and Multiple Function Application"
      ],
      "metadata": {
        "id": "ozO32wzKNVdh"
      }
    },
    {
      "cell_type": "code",
      "source": [
        "from google.colab import drive"
      ],
      "metadata": {
        "id": "b6grgjaHChyX"
      },
      "execution_count": null,
      "outputs": []
    },
    {
      "cell_type": "code",
      "source": [
        "drive.mount('/content/drive/')"
      ],
      "metadata": {
        "id": "gOTnz8V7E96N"
      },
      "execution_count": null,
      "outputs": []
    },
    {
      "cell_type": "code",
      "source": [
        "path = '/content/drive/MyDrive/'"
      ],
      "metadata": {
        "id": "mW6nh3OzFAAv"
      },
      "execution_count": null,
      "outputs": []
    },
    {
      "cell_type": "code",
      "source": [
        "tips = pd.read_csv(path + 'examples/tips.csv')\n",
        "# Add tip percentage of total bill\n",
        "tips['tip_pct'] = tips['tip'] / tips['total_bill']\n",
        "tips[:6]"
      ],
      "metadata": {
        "id": "RZZa6yUZNOK-"
      },
      "execution_count": null,
      "outputs": []
    },
    {
      "cell_type": "code",
      "source": [
        "grouped_pct = grouped['tip_pct']\n",
        "grouped_pct.agg('mean')"
      ],
      "metadata": {
        "id": "4uLXnMzoNW_n"
      },
      "execution_count": null,
      "outputs": []
    },
    {
      "cell_type": "markdown",
      "source": [
        "Pivot Tables and Cross-Tabulation"
      ],
      "metadata": {
        "id": "o_xjBo68OX71"
      }
    },
    {
      "cell_type": "code",
      "source": [
        "tips.pivot_table(index=['day', 'smoker'])"
      ],
      "metadata": {
        "id": "wny-TLtwOYn4"
      },
      "execution_count": null,
      "outputs": []
    },
    {
      "cell_type": "code",
      "source": [
        "tips.pivot_table(['tip_pct', 'size'], index=['time', 'day'],\n",
        "                 columns='smoker')"
      ],
      "metadata": {
        "id": "IeqztZcyObud"
      },
      "execution_count": null,
      "outputs": []
    },
    {
      "cell_type": "code",
      "source": [
        "tips.pivot_table(['tip_pct', 'size'], index=['time', 'day'],\n",
        "                 columns='smoker', margins=True)"
      ],
      "metadata": {
        "id": "YDEVxR__OkpM"
      },
      "execution_count": null,
      "outputs": []
    },
    {
      "cell_type": "code",
      "source": [
        "tips.pivot_table('tip_pct', index=['time', 'smoker'], columns='day',\n",
        "                 aggfunc=len, margins=True)"
      ],
      "metadata": {
        "id": "2j6u-zofOsS6"
      },
      "execution_count": null,
      "outputs": []
    },
    {
      "cell_type": "code",
      "source": [
        "tips.pivot_table('tip_pct', index=['time', 'size', 'smoker'],\n",
        "                 columns='day', aggfunc='mean', fill_value=0)"
      ],
      "metadata": {
        "id": "8tckOUvdOt1F"
      },
      "execution_count": null,
      "outputs": []
    },
    {
      "cell_type": "markdown",
      "source": [
        "**Module 08 : Data Analytic Example**"
      ],
      "metadata": {
        "id": "aNRDgvZGPjYv"
      }
    },
    {
      "cell_type": "code",
      "source": [
        "import pandas as pd\n",
        "\n",
        "df = pd.read_csv(path + 'examples/NCHS1.csv')\n",
        "\n",
        "display(df.head(5), df.tail(5))"
      ],
      "metadata": {
        "id": "BVT3vSKEPo4s"
      },
      "execution_count": null,
      "outputs": []
    },
    {
      "cell_type": "code",
      "source": [
        "import pandas as pd\n",
        "\n",
        "df = pd.read_csv(path + 'examples/NCHS1.csv')\n",
        "\n",
        "print(df['Cause Name'].unique(),\n",
        "      df['State'].unique(),\n",
        "      sep='\\n\\n')"
      ],
      "metadata": {
        "id": "S9hwiQz-QqMj"
      },
      "execution_count": null,
      "outputs": []
    },
    {
      "cell_type": "code",
      "source": [
        "import pandas as pd\n",
        "\n",
        "df = pd.read_csv(path + 'examples/NCHS1.csv')\n",
        "print('Old file', df.shape)"
      ],
      "metadata": {
        "id": "cjxBuE1-QwqQ"
      },
      "execution_count": null,
      "outputs": []
    },
    {
      "cell_type": "code",
      "source": [
        "df2 = df[df['Cause Name'] != 'All causes']\n",
        "df3 = df2[df2['State'] != 'United States']\n",
        "\n",
        "df3.to_csv(path + 'examples/NCHS2.csv', index=None)\n",
        "print('New file', df3.shape)"
      ],
      "metadata": {
        "id": "oLWlqD1rQ6Il"
      },
      "execution_count": null,
      "outputs": []
    },
    {
      "cell_type": "code",
      "source": [
        "import pandas as pd\n",
        "\n",
        "df = pd.read_csv(path + 'examples/NCHS2.csv')\n",
        "\n",
        "print(df['Cause Name'].unique(),\n",
        "      df['State'].unique(),\n",
        "      sep='\\n\\n')\n"
      ],
      "metadata": {
        "id": "qy-NN3SMQ8zI"
      },
      "execution_count": null,
      "outputs": []
    },
    {
      "cell_type": "code",
      "source": [
        "import pandas as pd\n",
        "\n",
        "df = pd.read_csv(path + 'examples/NCHS2.csv')\n",
        "\n",
        "sum = df['Deaths'].sum()\n",
        "sum_fm = format(sum, ',')\n",
        "\n",
        "print('Total deaths:', sum_fm)"
      ],
      "metadata": {
        "id": "Y87czQUORLmU"
      },
      "execution_count": null,
      "outputs": []
    },
    {
      "cell_type": "code",
      "source": [
        "import pandas as pd\n",
        "\n",
        "df = pd.read_csv(path + 'examples/NCHS2.csv')\n",
        "\n",
        "df_ca = df[(df.Year == 2017) & (df.State == 'California')]\n",
        "\n",
        "df_ca"
      ],
      "metadata": {
        "id": "Fe_lve52RQ4l"
      },
      "execution_count": null,
      "outputs": []
    },
    {
      "cell_type": "code",
      "source": [
        "import pandas as pd\n",
        "\n",
        "df = pd.read_csv(path + 'examples/NCHS2.csv')\n",
        "\n",
        "df_diabetes = df[df['Cause Name'] == 'Diabetes']\n",
        "sum_diabetes = df_diabetes['Deaths'].sum()\n",
        "\n",
        "print('Total deaths of diabetes :', format(sum_diabetes, ','))\n",
        "\n",
        "suicide_2015_2017 = df[(df['Cause Name'] == 'Suicide') &\n",
        "                       (df['Year'] >= 2015) & (df['Year'] <= 2017)]\n",
        "\n",
        "sum_suicide = suicide_2015_2017['Deaths'].sum()\n",
        "\n",
        "print('Total deaths of suicide between 2015-2017 :',\n",
        "      format(sum_suicide, ','))"
      ],
      "metadata": {
        "id": "_vr_DRXmRVFl"
      },
      "execution_count": null,
      "outputs": []
    },
    {
      "cell_type": "code",
      "source": [
        "import pandas as pd\n",
        "\n",
        "df = pd.read_csv(path + 'examples/NCHS2.csv')\n",
        "\n",
        "df = df[df.Year >= 2010].groupby('Year').sum()\n",
        "\n",
        "df[['Deaths']].style.format('{:,}')"
      ],
      "metadata": {
        "id": "xG9X3ARNRdaM"
      },
      "execution_count": null,
      "outputs": []
    },
    {
      "cell_type": "code",
      "source": [
        "import pandas as pd\n",
        "\n",
        "df = pd.read_csv(path + 'examples/NCHS2.csv')\n",
        "\n",
        "df = df.groupby('State').sum().sort_values(by='Deaths', ascending=False)\n",
        "\n",
        "df[['Deaths']].head(10).style.format('{:,}')"
      ],
      "metadata": {
        "id": "fxhcQVZoRlXw"
      },
      "execution_count": null,
      "outputs": []
    },
    {
      "cell_type": "code",
      "source": [
        "import pandas as pd\n",
        "\n",
        "df = pd.read_csv(path + 'examples/NCHS2.csv')\n",
        "\n",
        "df = df.groupby(['Cause Name']).sum().sort_values(by='Deaths', ascending=False)\n",
        "\n",
        "df[['Deaths']].style.format('{:,}')"
      ],
      "metadata": {
        "id": "4WQmoea-Rsts"
      },
      "execution_count": null,
      "outputs": []
    },
    {
      "cell_type": "code",
      "source": [
        "import pandas as pd\n",
        "\n",
        "df = pd.read_csv(path + 'examples/NCHS2.csv')\n",
        "\n",
        "#กำหนดเงื่อนไขโดยเลือกเฉพาะข้อมูลของรัฐ Florida ตั้งแต่ปี 2015 เป็นต้นมา\n",
        "df_fl = df[(df.Year >= 2015) & (df.State == 'Florida')]\n",
        "\n",
        "#เรียงลำดับข้อมูลจากมากไปหาน้อย\n",
        "df_fl = df_fl.sort_values(by='Deaths', ascending=False)\n",
        "\n",
        "#แบ่งกลุ่มตามปีค.ศ. แล้วเลือกข้อมูล 3 ลำดับแรกของแต่ละกลุ่ม\n",
        "df_fl = df_fl.groupby(['Year']).head(3)\n",
        "\n",
        "display(df_fl)"
      ],
      "metadata": {
        "id": "uNNEjS-VR6_Q"
      },
      "execution_count": null,
      "outputs": []
    },
    {
      "cell_type": "code",
      "source": [
        "g = df_fl.groupby(['Year', 'Cause Name'])[['Deaths']].sum()\n",
        "\n",
        "g.style.format('{:,}')"
      ],
      "metadata": {
        "id": "IKpnDU4fSkT-"
      },
      "execution_count": null,
      "outputs": []
    },
    {
      "cell_type": "code",
      "source": [
        "import pandas as pd\n",
        "import matplotlib.pyplot as plt\n",
        "\n",
        "plt.style.use('seaborn')\n",
        "\n",
        "df = pd.read_csv(path + 'examples/NCHS2.csv')\n",
        "df = df[df.Year >= 2010].groupby('Year').sum()\n",
        "\n",
        "plt.plot(df.index, df['Deaths'], 'ro-')\n",
        "plt.show()"
      ],
      "metadata": {
        "id": "O01Q5N4lSz7u"
      },
      "execution_count": null,
      "outputs": []
    },
    {
      "cell_type": "code",
      "source": [
        "import pandas as pd\n",
        "import matplotlib.pyplot as plt\n",
        "\n",
        "plt.style.use('seaborn')\n",
        "\n",
        "df = pd.read_csv(path + 'examples/NCHS2.csv')\n",
        "\n",
        "df = df[(df.Year >= 2008) & (df['Cause Name'] == 'Kidney disease')]\n",
        "df = df.groupby('Year').sum()\n",
        "\n",
        "plt.plot(df.index, df['Deaths'], 'mD-')\n",
        "plt.show()"
      ],
      "metadata": {
        "id": "E7fGBz23S3bH"
      },
      "execution_count": null,
      "outputs": []
    },
    {
      "cell_type": "code",
      "source": [
        "import pandas as pd\n",
        "import matplotlib.pyplot as plt\n",
        "\n",
        "plt.style.use('seaborn')\n",
        "\n",
        "df = pd.read_csv(path + 'examples/NCHS2.csv')\n",
        "\n",
        "df = df[df.State == 'California'].groupby('Cause Name').sum()\n",
        "\n",
        "#display(df)\n",
        "\n",
        "df[['Deaths']].plot.bar(color='lightblue')"
      ],
      "metadata": {
        "id": "uxmVetIzS-2c"
      },
      "execution_count": null,
      "outputs": []
    },
    {
      "cell_type": "code",
      "source": [
        "import pandas as pd\n",
        "\n",
        "df = pd.read_csv(path + 'examples/countries_info.csv')\n",
        "\n",
        "display(df.head(5), df.tail(5))"
      ],
      "metadata": {
        "id": "iBksJfniTNMF"
      },
      "execution_count": null,
      "outputs": []
    },
    {
      "cell_type": "code",
      "source": [
        "import pandas as pd\n",
        "\n",
        "df = pd.read_csv(path + 'examples/countries_info.csv')\n",
        "\n",
        "th = df[df['Country'] == 'Thailand']\n",
        "\n",
        "th.style.format('{:,}', subset=pd.IndexSlice[:, 'Population':])"
      ],
      "metadata": {
        "id": "OYVS8lKLUWlW"
      },
      "execution_count": null,
      "outputs": []
    },
    {
      "cell_type": "code",
      "source": [
        "import pandas as pd\n",
        "\n",
        "df = pd.read_csv(path + 'examples/countries_info.csv')\n",
        "\n",
        "print(df.Region.unique())"
      ],
      "metadata": {
        "id": "ksegzQIyUgeD"
      },
      "execution_count": null,
      "outputs": []
    },
    {
      "cell_type": "code",
      "source": [
        "import pandas as pd\n",
        "\n",
        "df = pd.read_csv(path + 'examples/countries_info.csv')\n",
        "\n",
        "display(df[df['Region'].str.startswith('ASIA')].head(3),\n",
        "        df[df['Region'].str.endswith('AMERICA')].head(3),\n",
        "        df[df['Region'].str.find('EUROPE') != -1].head(3))"
      ],
      "metadata": {
        "id": "iP41zeW8UqPB"
      },
      "execution_count": null,
      "outputs": []
    },
    {
      "cell_type": "code",
      "source": [
        "import pandas as pd\n",
        "\n",
        "df = pd.read_csv(path + 'examples/countries_info.csv')\n",
        "\n",
        "idx_max = df['Population'].idxmax()\n",
        "\n",
        "sr_pop = df.loc[idx_max]\n",
        "\n",
        "#แนวทางการแสดงผลแบบต่างๆ\n",
        "display(sr_pop,\n",
        "        sr_pop.to_frame(),\n",
        "        sr_pop.to_frame().T)  #หรือใช้ transpose() แทน T"
      ],
      "metadata": {
        "id": "J8gdbv8GUkju"
      },
      "execution_count": null,
      "outputs": []
    },
    {
      "cell_type": "code",
      "source": [
        "import pandas as pd\n",
        "\n",
        "df = pd.read_csv(path + 'examples/countries_info.csv')\n",
        "\n",
        "idx_max = df['GDP_USD_per_capita'].idxmax()\n",
        "\n",
        "sr_gdp = df.loc[idx_max]\n",
        "\n",
        "display(sr_gdp.to_frame(),\n",
        "        sr_gdp.to_frame().T)"
      ],
      "metadata": {
        "id": "wN7uylkWTxVx"
      },
      "execution_count": null,
      "outputs": []
    },
    {
      "cell_type": "code",
      "source": [
        "import pandas as pd\n",
        "\n",
        "df = pd.read_csv(path + 'examples/countries_info.csv')\n",
        "\n",
        "df_sorted_gdp = df.sort_values(by='GDP_USD_per_capita', ascending=False)\n",
        "\n",
        "df_sorted_gdp.reset_index(inplace=True)\n",
        "\n",
        "df_h10 = df_sorted_gdp.head(10)\n",
        "\n",
        "display(df_h10.style.format('{:,.0f}',\n",
        "                            subset=pd.IndexSlice[:, 'Population':]))\n",
        "\n",
        "#ลำดับของประเทศไทย\n",
        "th_idx = df_sorted_gdp[df_sorted_gdp['Country'] == 'Thailand'].index\n",
        "\n",
        "print('Thailand rank:', th_idx[0] + 1)"
      ],
      "metadata": {
        "id": "v0uzAZUKSP_7"
      },
      "execution_count": null,
      "outputs": []
    },
    {
      "cell_type": "code",
      "source": [
        "import pandas as pd\n",
        "\n",
        "df = pd.read_csv(path + 'examples/countries_info.csv')\n",
        "\n",
        "df = df.head(5)\n",
        "\n",
        "df.insert(5, 'GDP_USD', df['Population'] * df['GDP_USD_per_capita'])\n",
        "df.insert(6, 'Pop_density_per_sq_mi', df['Population'] / df['Area_sq_mi'])\n",
        "\n",
        "#display(df)\n",
        "\n",
        "style = df.style.format('{:,.0f}',\n",
        "                        subset=pd.IndexSlice[:, 'Population':'GDP_USD'])\n",
        "\n",
        "style.format({'Pop_density_per_sq_mi':'{:,.2f}'})\n",
        "\n",
        "display(style)"
      ],
      "metadata": {
        "id": "6l_CJtLjVEC1"
      },
      "execution_count": null,
      "outputs": []
    },
    {
      "cell_type": "code",
      "source": [
        "import pandas as pd\n",
        "\n",
        "df = pd.read_csv(path + 'examples/countries_info.csv')\n",
        "\n",
        "df = df.head(5)\n",
        "\n",
        "a = lambda frame: frame['Population'] * frame['GDP_USD_per_capita']\n",
        "b = lambda frame: frame['Population'] / frame['Area_sq_mi']\n",
        "\n",
        "df2 = df.assign(GDP_USD=a, Pop_density_per_sq_mi=b)\n",
        "\n",
        "#display(df2)\n",
        "\n",
        "style = df2.style.format('{:,.0f}',\n",
        "                         subset=pd.IndexSlice[:, 'Population':'GDP_USD'])\n",
        "\n",
        "style.format({'Pop_density_per_sq_mi':'{:,.2f}'})\n",
        "\n",
        "display(style)"
      ],
      "metadata": {
        "id": "JyAwahbSVJKC"
      },
      "execution_count": null,
      "outputs": []
    },
    {
      "cell_type": "code",
      "source": [
        "import pandas as pd\n",
        "\n",
        "df = pd.read_csv(path + 'examples/countries_info.csv')\n",
        "\n",
        "g = df.groupby(['Region'])[['Population', 'Area_sq_mi']].sum()\n",
        "\n",
        "g = g.add_prefix('sum_')\n",
        "\n",
        "display(g.style.format('{:,}'))"
      ],
      "metadata": {
        "id": "EW_Oi1WtVRjV"
      },
      "execution_count": null,
      "outputs": []
    },
    {
      "cell_type": "code",
      "source": [
        "import pandas as pd\n",
        "\n",
        "df = pd.read_csv(path + 'examples/countries_info.csv')\n",
        "\n",
        "g = df.groupby(['Region']).agg({'Population':[max, min],\n",
        "                                'GDP_USD_per_capita':[max, min]})\n",
        "\n",
        "display(g.style.format('{:,}'))"
      ],
      "metadata": {
        "id": "G3geYlC_VZyg"
      },
      "execution_count": null,
      "outputs": []
    },
    {
      "cell_type": "code",
      "source": [
        "import pandas as pd\n",
        "\n",
        "df = pd.read_csv(path + 'examples/countries_info.csv')\n",
        "\n",
        "df.pivot_table(aggfunc=[max, min],\n",
        "               values=['Population', 'GDP_USD_per_capita'],\n",
        "               index=['Region'],\n",
        "               margins=False)"
      ],
      "metadata": {
        "id": "IQEeeqW1VhDJ"
      },
      "execution_count": null,
      "outputs": []
    },
    {
      "cell_type": "code",
      "source": [
        "import pandas as pd\n",
        "\n",
        "df = pd.read_csv(path + 'examples/countries_info.csv')\n",
        "\n",
        "#เรียงลำดับข้อมูลจากมากไปหาน้อย โดยใช้คอลัมน์เป้าหมายที่หาค่าสูงสุดเป็นเกณฑ์\n",
        "df_sorted = df.sort_values(by='GDP_USD_per_capita', ascending=False)\n",
        "\n",
        "#แบ่งกลุ่มตามภูมิภาคแล้วเลือกข้อมูล 3 ลำดับแรกของแต่ละกลุ่ม\n",
        "df_grp_by_reg = df_sorted.groupby(['Region']).head(3)\n",
        "\n",
        "display(df_grp_by_reg)"
      ],
      "metadata": {
        "id": "cANl2qU6Vnlx"
      },
      "execution_count": null,
      "outputs": []
    },
    {
      "cell_type": "code",
      "source": [
        "#จัดกลุ่มโดยใช้ภูมิภาคและประเทศในการจัดกลุ่ม\n",
        "#แล้วแสดงผลรวมของแต่ละกลุ่ม ในแบบ Aggregate Function\n",
        "#เพื่อหาผลรวมเฉพาะคอลัมน์ GDP\n",
        "g = df_grp_by_reg \\\n",
        "        .groupby(['Region', 'Country']) \\\n",
        "        .agg({'GDP_USD_per_capita':max}) \\\n",
        "        .add_prefix('max_')\n",
        "\n",
        "#ถ้าต้องการแยกแสดงผลทีละส่วน พร้อมจัดสไตล์\n",
        "display(g[:9].style.format('{:,}'),\n",
        "        g[9:18].style.format('{:,}'),\n",
        "        g[18:27].style.format('{:,}'),\n",
        "        g[27:].style.format('{:,}'))"
      ],
      "metadata": {
        "id": "gkszRjLMV3a-"
      },
      "execution_count": null,
      "outputs": []
    },
    {
      "cell_type": "code",
      "source": [
        "import pandas as pd\n",
        "import matplotlib.pyplot as plt\n",
        "\n",
        "df = pd.read_csv(path + 'examples/countries_info.csv')\n",
        "\n",
        "countries = ['Thailand', 'Malaysia', 'Singapore',\n",
        "             'Indonesia', 'Vietnam', 'Philippines']\n",
        "gdps = []\n",
        "\n",
        "for i, c in enumerate(countries):\n",
        "    idx = df[df.Country == countries[i]].index\n",
        "    g = df.at[idx[0], 'GDP_USD_per_capita']\n",
        "    gdps.append(g)\n",
        "\n",
        "plt.bar(countries, gdps, color=['lightblue', 'lightblue', 'lightgreen', 'lightblue', 'lightblue', 'lightblue'])\n",
        "plt.xticks(rotation=60)\n",
        "plt.title('ASEAN GDP per capita (USD)')\n",
        "plt.show()"
      ],
      "metadata": {
        "id": "Klv-ulMsV7T7"
      },
      "execution_count": null,
      "outputs": []
    }
  ]
}